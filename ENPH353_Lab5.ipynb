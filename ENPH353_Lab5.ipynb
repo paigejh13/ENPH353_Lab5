{
  "nbformat": 4,
  "nbformat_minor": 0,
  "metadata": {
    "colab": {
      "provenance": []
    },
    "kernelspec": {
      "name": "python3",
      "display_name": "Python 3"
    },
    "language_info": {
      "name": "python"
    }
  },
  "cells": [
    {
      "cell_type": "code",
      "execution_count": 491,
      "metadata": {
        "id": "aHwEmWDsJ6eC"
      },
      "outputs": [],
      "source": [
        "import math\n",
        "import numpy as np\n",
        "import matplotlib.pyplot as plt\n",
        "%matplotlib inline"
      ]
    },
    {
      "cell_type": "code",
      "source": [
        "from graphviz import Digraph\n",
        "\n",
        "def trace(root):\n",
        "\n",
        "  nodes, edges = set(), set()\n",
        "  def build(v):\n",
        "    if v not in nodes:\n",
        "      nodes.add(v)\n",
        "      for child in v._prev:\n",
        "        edges.add((child, v))\n",
        "        build(child)\n",
        "  build(root)\n",
        "  return nodes, edges\n",
        "\n",
        "def draw_dot(root):\n",
        "  dot = Digraph(format='svg', graph_attr={'rankdir': 'LR'})\n",
        "\n",
        "  nodes, edges = trace(root)\n",
        "  for n in nodes:\n",
        "    uid = str(id(n))\n",
        "\n",
        "\n",
        "    dot.node(name=uid, label=\"{%s | data %.4f |grad %.4f}\" % (n.label, n.data, n.grad), shape= 'record')\n",
        "    if n._op:\n",
        "      dot.node(name=uid + n._op, label=n._op)\n",
        "      dot.edge(uid + n._op,uid)\n",
        "\n",
        "  for n1, n2 in edges:\n",
        "    n1_name = str(id(n1))\n",
        "    n2_name = str(id(n2))\n",
        "    dot.edge(str(id(n1)), str(id(n2)) + n2._op)\n",
        "  return dot\n",
        "\n"
      ],
      "metadata": {
        "id": "3c4SYoHbSWlI"
      },
      "execution_count": 492,
      "outputs": []
    },
    {
      "cell_type": "code",
      "source": [
        "class Value:\n",
        "\n",
        "  def __init__(self, data, _children=(), _op='', label=''):\n",
        "    self.data = data\n",
        "    self._backward = lambda: None\n",
        "    self._prev = set(_children)\n",
        "    self._op = _op\n",
        "    self.label = label\n",
        "    self.grad = 0\n",
        "\n",
        "  def __repr__(self):\n",
        "    return f\"Value(data={self.data})\"\n",
        "\n",
        "  def __add__(self, other):\n",
        "    other = other if isinstance(other, Value) else Value(other)\n",
        "    out = Value(self.data + other.data, (self, other), '+')\n",
        "\n",
        "    def _backward():\n",
        "      self.grad += 1.0 * out.grad\n",
        "      other.grad += 1.0 *out.grad\n",
        "    out._backward = _backward\n",
        "\n",
        "    return out\n",
        "\n",
        "  def __mul__(self, other):\n",
        "    other = other if isinstance(other, Value) else Value(other)\n",
        "    out = Value(self.data * other.data, (self, other), '*')\n",
        "\n",
        "    def _backward():\n",
        "      self.grad += other.data * out.grad\n",
        "      other.grad += self.data *out.grad\n",
        "    out._backward = _backward\n",
        "\n",
        "    return out\n",
        "\n",
        "  def __pow__(self, other):\n",
        "    assert isinstance(other, (int, float))\n",
        "    out = Value(self.data**other, (self, ), f'**{other}')\n",
        "\n",
        "    def _backward():\n",
        "      self.grad  += other*self.data**(other-1) * out.grad\n",
        "    out._backward = _backward\n",
        "\n",
        "    return out\n",
        "\n",
        "  def __truediv__(self, other):\n",
        "    return self * other**-1\n",
        "\n",
        "  def __neg__(self):\n",
        "    return self * -1\n",
        "\n",
        "  def __sub__(self, other):\n",
        "    return self + (-other)\n",
        "\n",
        "  def __rmul__(self, other):\n",
        "    return self*other\n",
        "\n",
        "  def tanh(self):\n",
        "    n = self.data\n",
        "    t = (math.exp(2*n)-1)/(math.exp(2*n)+1)\n",
        "    out = Value(t, (self, ), 'tanh')\n",
        "\n",
        "    def _backward():\n",
        "      self.grad  += (1-t**2)*out.grad\n",
        "    out._backward = _backward\n",
        "\n",
        "    return out\n",
        "\n",
        "  def two_tanh(self):\n",
        "    n = self.tanh()*2\n",
        "    n.grad = n.grad*2\n",
        "    return n\n",
        "\n",
        "  def exp(self):\n",
        "    x = self.data\n",
        "    out = Value(math.exp(x), (self, ), 'exp')\n",
        "\n",
        "    def _backward():\n",
        "      self.grad  += out.data * out.grad\n",
        "    out._backward = _backward\n",
        "\n",
        "    return out\n",
        "\n",
        "  def backward(self):\n",
        "    topo = []\n",
        "    visited = set()\n",
        "\n",
        "    def build_topo(v):\n",
        "      a = 1\n",
        "      if v not in visited:\n",
        "        visited.add(v)\n",
        "        for child in v._prev:\n",
        "          build_topo(child)\n",
        "        topo.append(v)\n",
        "    build_topo(self)\n",
        "\n",
        "    self.grad = 1.0\n",
        "    for node in reversed(topo):\n",
        "      node._backward()\n",
        "\n"
      ],
      "metadata": {
        "id": "FXoo6n09OKCF"
      },
      "execution_count": 610,
      "outputs": []
    },
    {
      "cell_type": "code",
      "source": [
        "a = Value(2.0, label = 'a')\n",
        "b = Value(-3.0, label = 'b')\n",
        "c = Value(10.0, label = 'c')\n",
        "e = a*b; e.label='e'\n",
        "d = e+c; d.label = 'd'\n",
        "f = Value(-2.0, label='f')\n",
        "L = d*f; L.label ='L'"
      ],
      "metadata": {
        "id": "cMpRx5s0Ugc-"
      },
      "execution_count": 494,
      "outputs": []
    },
    {
      "cell_type": "code",
      "source": [
        "L.grad = 1\n",
        "f.grad = d.data\n",
        "d.grad = f.data\n",
        "c.grad = 1*d.grad\n",
        "e.grad = 1*d.grad\n",
        "b.grad = a.data*e.grad\n",
        "a.grad = b.data*e.grad"
      ],
      "metadata": {
        "id": "FXfIvu8v57__"
      },
      "execution_count": 495,
      "outputs": []
    },
    {
      "cell_type": "code",
      "source": [
        "a.data += 0.01 * a.grad\n",
        "b.data += 0.01 * b.grad\n",
        "c.data += 0.01 * c.grad\n",
        "f.data += 0.01 * f.grad\n",
        "\n",
        "e = a*b\n",
        "d = e+c\n",
        "L = d*f\n",
        "\n",
        "print(L.data)\n",
        "print(L._prev)"
      ],
      "metadata": {
        "colab": {
          "base_uri": "https://localhost:8080/"
        },
        "id": "VG3aos70-X-c",
        "outputId": "9d153a07-1b9b-4835-b86a-3bc25965092f"
      },
      "execution_count": 496,
      "outputs": [
        {
          "output_type": "stream",
          "name": "stdout",
          "text": [
            "-7.286496\n",
            "{Value(data=-1.96), Value(data=3.7176)}\n"
          ]
        }
      ]
    },
    {
      "cell_type": "code",
      "source": [
        "x1 = Value(2.0, label='x1')\n",
        "w1 = Value(-3.0, label='w1')\n",
        "x2 = Value(0.0, label='x2')\n",
        "w2 = Value(1.0 , label='w2')\n",
        "b = Value(6.88137, label='b')\n",
        "\n",
        "x1w1 = x1*w1; x1w1.label = \"x1w1\"\n",
        "x2w2 = x2*w2; x2w2.label = \"x2w2\"\n",
        "x1w1x2w2 = x1w1+x2w2; x1w1x2w2.label = \"x1w1x2w2\"\n",
        "\n",
        "n = x1w1x2w2 + b; n.label='n'\n",
        "o = n.tanh(); o.label='o'\n",
        "\n",
        "o.backward()"
      ],
      "metadata": {
        "id": "Xd0IU8pkv-BS"
      },
      "execution_count": 497,
      "outputs": []
    },
    {
      "cell_type": "code",
      "source": [
        "draw_dot(o)"
      ],
      "metadata": {
        "colab": {
          "base_uri": "https://localhost:8080/",
          "height": 321
        },
        "id": "KorIULamvkqr",
        "outputId": "8d1a124e-6ef2-4b94-9bef-2cbaa50760f9"
      },
      "execution_count": 498,
      "outputs": [
        {
          "output_type": "execute_result",
          "data": {
            "image/svg+xml": "<?xml version=\"1.0\" encoding=\"UTF-8\" standalone=\"no\"?>\n<!DOCTYPE svg PUBLIC \"-//W3C//DTD SVG 1.1//EN\"\n \"http://www.w3.org/Graphics/SVG/1.1/DTD/svg11.dtd\">\n<!-- Generated by graphviz version 2.43.0 (0)\n -->\n<!-- Title: %3 Pages: 1 -->\n<svg width=\"1540pt\" height=\"210pt\"\n viewBox=\"0.00 0.00 1540.00 210.00\" xmlns=\"http://www.w3.org/2000/svg\" xmlns:xlink=\"http://www.w3.org/1999/xlink\">\n<g id=\"graph0\" class=\"graph\" transform=\"scale(1 1) rotate(0) translate(4 206)\">\n<title>%3</title>\n<polygon fill=\"white\" stroke=\"transparent\" points=\"-4,4 -4,-206 1536,-206 1536,4 -4,4\"/>\n<!-- 132454199621136 -->\n<g id=\"node1\" class=\"node\">\n<title>132454199621136</title>\n<polygon fill=\"none\" stroke=\"black\" points=\"328.5,-55.5 328.5,-91.5 537.5,-91.5 537.5,-55.5 328.5,-55.5\"/>\n<text text-anchor=\"middle\" x=\"352\" y=\"-69.8\" font-family=\"Times,serif\" font-size=\"14.00\">x2w2</text>\n<polyline fill=\"none\" stroke=\"black\" points=\"375.5,-55.5 375.5,-91.5 \"/>\n<text text-anchor=\"middle\" x=\"415.5\" y=\"-69.8\" font-family=\"Times,serif\" font-size=\"14.00\">data 0.0000</text>\n<polyline fill=\"none\" stroke=\"black\" points=\"455.5,-55.5 455.5,-91.5 \"/>\n<text text-anchor=\"middle\" x=\"496.5\" y=\"-69.8\" font-family=\"Times,serif\" font-size=\"14.00\">grad 0.5000</text>\n</g>\n<!-- 132454199609232+ -->\n<g id=\"node11\" class=\"node\">\n<title>132454199609232+</title>\n<ellipse fill=\"none\" stroke=\"black\" cx=\"603\" cy=\"-100.5\" rx=\"27\" ry=\"18\"/>\n<text text-anchor=\"middle\" x=\"603\" y=\"-96.8\" font-family=\"Times,serif\" font-size=\"14.00\">+</text>\n</g>\n<!-- 132454199621136&#45;&gt;132454199609232+ -->\n<g id=\"edge14\" class=\"edge\">\n<title>132454199621136&#45;&gt;132454199609232+</title>\n<path fill=\"none\" stroke=\"black\" d=\"M537.53,-90.14C547.8,-91.79 557.66,-93.37 566.45,-94.79\"/>\n<polygon fill=\"black\" stroke=\"black\" points=\"566.16,-98.28 576.59,-96.42 567.27,-91.37 566.16,-98.28\"/>\n</g>\n<!-- 132454199621136* -->\n<g id=\"node2\" class=\"node\">\n<title>132454199621136*</title>\n<ellipse fill=\"none\" stroke=\"black\" cx=\"263\" cy=\"-73.5\" rx=\"27\" ry=\"18\"/>\n<text text-anchor=\"middle\" x=\"263\" y=\"-69.8\" font-family=\"Times,serif\" font-size=\"14.00\">*</text>\n</g>\n<!-- 132454199621136*&#45;&gt;132454199621136 -->\n<g id=\"edge1\" class=\"edge\">\n<title>132454199621136*&#45;&gt;132454199621136</title>\n<path fill=\"none\" stroke=\"black\" d=\"M290.25,-73.5C298.43,-73.5 308.03,-73.5 318.31,-73.5\"/>\n<polygon fill=\"black\" stroke=\"black\" points=\"318.35,-77 328.35,-73.5 318.35,-70 318.35,-77\"/>\n</g>\n<!-- 132454199610912 -->\n<g id=\"node3\" class=\"node\">\n<title>132454199610912</title>\n<polygon fill=\"none\" stroke=\"black\" points=\"1036,-109.5 1036,-145.5 1221,-145.5 1221,-109.5 1036,-109.5\"/>\n<text text-anchor=\"middle\" x=\"1047.5\" y=\"-123.8\" font-family=\"Times,serif\" font-size=\"14.00\">n</text>\n<polyline fill=\"none\" stroke=\"black\" points=\"1059,-109.5 1059,-145.5 \"/>\n<text text-anchor=\"middle\" x=\"1099\" y=\"-123.8\" font-family=\"Times,serif\" font-size=\"14.00\">data 0.8814</text>\n<polyline fill=\"none\" stroke=\"black\" points=\"1139,-109.5 1139,-145.5 \"/>\n<text text-anchor=\"middle\" x=\"1180\" y=\"-123.8\" font-family=\"Times,serif\" font-size=\"14.00\">grad 0.5000</text>\n</g>\n<!-- 132454199623104tanh -->\n<g id=\"node13\" class=\"node\">\n<title>132454199623104tanh</title>\n<ellipse fill=\"none\" stroke=\"black\" cx=\"1284\" cy=\"-127.5\" rx=\"27\" ry=\"18\"/>\n<text text-anchor=\"middle\" x=\"1284\" y=\"-123.8\" font-family=\"Times,serif\" font-size=\"14.00\">tanh</text>\n</g>\n<!-- 132454199610912&#45;&gt;132454199623104tanh -->\n<g id=\"edge8\" class=\"edge\">\n<title>132454199610912&#45;&gt;132454199623104tanh</title>\n<path fill=\"none\" stroke=\"black\" d=\"M1221.01,-127.5C1230.01,-127.5 1238.74,-127.5 1246.66,-127.5\"/>\n<polygon fill=\"black\" stroke=\"black\" points=\"1246.91,-131 1256.91,-127.5 1246.91,-124 1246.91,-131\"/>\n</g>\n<!-- 132454199610912+ -->\n<g id=\"node4\" class=\"node\">\n<title>132454199610912+</title>\n<ellipse fill=\"none\" stroke=\"black\" cx=\"973\" cy=\"-127.5\" rx=\"27\" ry=\"18\"/>\n<text text-anchor=\"middle\" x=\"973\" y=\"-123.8\" font-family=\"Times,serif\" font-size=\"14.00\">+</text>\n</g>\n<!-- 132454199610912+&#45;&gt;132454199610912 -->\n<g id=\"edge2\" class=\"edge\">\n<title>132454199610912+&#45;&gt;132454199610912</title>\n<path fill=\"none\" stroke=\"black\" d=\"M1000.04,-127.5C1007.58,-127.5 1016.3,-127.5 1025.57,-127.5\"/>\n<polygon fill=\"black\" stroke=\"black\" points=\"1025.81,-131 1035.81,-127.5 1025.81,-124 1025.81,-131\"/>\n</g>\n<!-- 132454199607456 -->\n<g id=\"node5\" class=\"node\">\n<title>132454199607456</title>\n<polygon fill=\"none\" stroke=\"black\" points=\"0,-165.5 0,-201.5 200,-201.5 200,-165.5 0,-165.5\"/>\n<text text-anchor=\"middle\" x=\"16.5\" y=\"-179.8\" font-family=\"Times,serif\" font-size=\"14.00\">w1</text>\n<polyline fill=\"none\" stroke=\"black\" points=\"33,-165.5 33,-201.5 \"/>\n<text text-anchor=\"middle\" x=\"75.5\" y=\"-179.8\" font-family=\"Times,serif\" font-size=\"14.00\">data &#45;3.0000</text>\n<polyline fill=\"none\" stroke=\"black\" points=\"118,-165.5 118,-201.5 \"/>\n<text text-anchor=\"middle\" x=\"159\" y=\"-179.8\" font-family=\"Times,serif\" font-size=\"14.00\">grad 1.0000</text>\n</g>\n<!-- 132454199615424* -->\n<g id=\"node15\" class=\"node\">\n<title>132454199615424*</title>\n<ellipse fill=\"none\" stroke=\"black\" cx=\"263\" cy=\"-128.5\" rx=\"27\" ry=\"18\"/>\n<text text-anchor=\"middle\" x=\"263\" y=\"-124.8\" font-family=\"Times,serif\" font-size=\"14.00\">*</text>\n</g>\n<!-- 132454199607456&#45;&gt;132454199615424* -->\n<g id=\"edge11\" class=\"edge\">\n<title>132454199607456&#45;&gt;132454199615424*</title>\n<path fill=\"none\" stroke=\"black\" d=\"M172.53,-165.44C181.84,-162.67 191.2,-159.67 200,-156.5 210.53,-152.71 221.75,-147.9 231.72,-143.33\"/>\n<polygon fill=\"black\" stroke=\"black\" points=\"233.25,-146.48 240.82,-139.07 230.28,-140.14 233.25,-146.48\"/>\n</g>\n<!-- 132454199620800 -->\n<g id=\"node6\" class=\"node\">\n<title>132454199620800</title>\n<polygon fill=\"none\" stroke=\"black\" points=\"2,-110.5 2,-146.5 198,-146.5 198,-110.5 2,-110.5\"/>\n<text text-anchor=\"middle\" x=\"17\" y=\"-124.8\" font-family=\"Times,serif\" font-size=\"14.00\">x1</text>\n<polyline fill=\"none\" stroke=\"black\" points=\"32,-110.5 32,-146.5 \"/>\n<text text-anchor=\"middle\" x=\"72\" y=\"-124.8\" font-family=\"Times,serif\" font-size=\"14.00\">data 2.0000</text>\n<polyline fill=\"none\" stroke=\"black\" points=\"112,-110.5 112,-146.5 \"/>\n<text text-anchor=\"middle\" x=\"155\" y=\"-124.8\" font-family=\"Times,serif\" font-size=\"14.00\">grad &#45;1.5000</text>\n</g>\n<!-- 132454199620800&#45;&gt;132454199615424* -->\n<g id=\"edge12\" class=\"edge\">\n<title>132454199620800&#45;&gt;132454199615424*</title>\n<path fill=\"none\" stroke=\"black\" d=\"M198.37,-128.5C208.05,-128.5 217.4,-128.5 225.8,-128.5\"/>\n<polygon fill=\"black\" stroke=\"black\" points=\"225.91,-132 235.91,-128.5 225.91,-125 225.91,-132\"/>\n</g>\n<!-- 132454199615280 -->\n<g id=\"node7\" class=\"node\">\n<title>132454199615280</title>\n<polygon fill=\"none\" stroke=\"black\" points=\"695.5,-137.5 695.5,-173.5 880.5,-173.5 880.5,-137.5 695.5,-137.5\"/>\n<text text-anchor=\"middle\" x=\"707\" y=\"-151.8\" font-family=\"Times,serif\" font-size=\"14.00\">b</text>\n<polyline fill=\"none\" stroke=\"black\" points=\"718.5,-137.5 718.5,-173.5 \"/>\n<text text-anchor=\"middle\" x=\"758.5\" y=\"-151.8\" font-family=\"Times,serif\" font-size=\"14.00\">data 6.8814</text>\n<polyline fill=\"none\" stroke=\"black\" points=\"798.5,-137.5 798.5,-173.5 \"/>\n<text text-anchor=\"middle\" x=\"839.5\" y=\"-151.8\" font-family=\"Times,serif\" font-size=\"14.00\">grad 0.5000</text>\n</g>\n<!-- 132454199615280&#45;&gt;132454199610912+ -->\n<g id=\"edge9\" class=\"edge\">\n<title>132454199615280&#45;&gt;132454199610912+</title>\n<path fill=\"none\" stroke=\"black\" d=\"M880.77,-141.46C900.52,-138.44 920.26,-135.42 936.29,-132.96\"/>\n<polygon fill=\"black\" stroke=\"black\" points=\"936.9,-136.41 946.26,-131.44 935.85,-129.49 936.9,-136.41\"/>\n</g>\n<!-- 132454199617344 -->\n<g id=\"node8\" class=\"node\">\n<title>132454199617344</title>\n<polygon fill=\"none\" stroke=\"black\" points=\"4,-55.5 4,-91.5 196,-91.5 196,-55.5 4,-55.5\"/>\n<text text-anchor=\"middle\" x=\"19\" y=\"-69.8\" font-family=\"Times,serif\" font-size=\"14.00\">x2</text>\n<polyline fill=\"none\" stroke=\"black\" points=\"34,-55.5 34,-91.5 \"/>\n<text text-anchor=\"middle\" x=\"74\" y=\"-69.8\" font-family=\"Times,serif\" font-size=\"14.00\">data 0.0000</text>\n<polyline fill=\"none\" stroke=\"black\" points=\"114,-55.5 114,-91.5 \"/>\n<text text-anchor=\"middle\" x=\"155\" y=\"-69.8\" font-family=\"Times,serif\" font-size=\"14.00\">grad 0.5000</text>\n</g>\n<!-- 132454199617344&#45;&gt;132454199621136* -->\n<g id=\"edge10\" class=\"edge\">\n<title>132454199617344&#45;&gt;132454199621136*</title>\n<path fill=\"none\" stroke=\"black\" d=\"M196.05,-73.5C206.52,-73.5 216.65,-73.5 225.71,-73.5\"/>\n<polygon fill=\"black\" stroke=\"black\" points=\"225.79,-77 235.79,-73.5 225.79,-70 225.79,-77\"/>\n</g>\n<!-- 132454199622480 -->\n<g id=\"node9\" class=\"node\">\n<title>132454199622480</title>\n<polygon fill=\"none\" stroke=\"black\" points=\"2.5,-0.5 2.5,-36.5 197.5,-36.5 197.5,-0.5 2.5,-0.5\"/>\n<text text-anchor=\"middle\" x=\"19\" y=\"-14.8\" font-family=\"Times,serif\" font-size=\"14.00\">w2</text>\n<polyline fill=\"none\" stroke=\"black\" points=\"35.5,-0.5 35.5,-36.5 \"/>\n<text text-anchor=\"middle\" x=\"75.5\" y=\"-14.8\" font-family=\"Times,serif\" font-size=\"14.00\">data 1.0000</text>\n<polyline fill=\"none\" stroke=\"black\" points=\"115.5,-0.5 115.5,-36.5 \"/>\n<text text-anchor=\"middle\" x=\"156.5\" y=\"-14.8\" font-family=\"Times,serif\" font-size=\"14.00\">grad 0.0000</text>\n</g>\n<!-- 132454199622480&#45;&gt;132454199621136* -->\n<g id=\"edge13\" class=\"edge\">\n<title>132454199622480&#45;&gt;132454199621136*</title>\n<path fill=\"none\" stroke=\"black\" d=\"M169.28,-36.5C179.65,-39.61 190.16,-42.98 200,-46.5 210.28,-50.17 221.28,-54.74 231.11,-59.07\"/>\n<polygon fill=\"black\" stroke=\"black\" points=\"229.93,-62.37 240.48,-63.27 232.79,-55.99 229.93,-62.37\"/>\n</g>\n<!-- 132454199609232 -->\n<g id=\"node10\" class=\"node\">\n<title>132454199609232</title>\n<polygon fill=\"none\" stroke=\"black\" points=\"666,-82.5 666,-118.5 910,-118.5 910,-82.5 666,-82.5\"/>\n<text text-anchor=\"middle\" x=\"704.5\" y=\"-96.8\" font-family=\"Times,serif\" font-size=\"14.00\">x1w1x2w2</text>\n<polyline fill=\"none\" stroke=\"black\" points=\"743,-82.5 743,-118.5 \"/>\n<text text-anchor=\"middle\" x=\"785.5\" y=\"-96.8\" font-family=\"Times,serif\" font-size=\"14.00\">data &#45;6.0000</text>\n<polyline fill=\"none\" stroke=\"black\" points=\"828,-82.5 828,-118.5 \"/>\n<text text-anchor=\"middle\" x=\"869\" y=\"-96.8\" font-family=\"Times,serif\" font-size=\"14.00\">grad 0.5000</text>\n</g>\n<!-- 132454199609232&#45;&gt;132454199610912+ -->\n<g id=\"edge7\" class=\"edge\">\n<title>132454199609232&#45;&gt;132454199610912+</title>\n<path fill=\"none\" stroke=\"black\" d=\"M910.04,-118.36C919.47,-119.75 928.43,-121.07 936.46,-122.26\"/>\n<polygon fill=\"black\" stroke=\"black\" points=\"936.03,-125.73 946.43,-123.73 937.05,-118.81 936.03,-125.73\"/>\n</g>\n<!-- 132454199609232+&#45;&gt;132454199609232 -->\n<g id=\"edge3\" class=\"edge\">\n<title>132454199609232+&#45;&gt;132454199609232</title>\n<path fill=\"none\" stroke=\"black\" d=\"M630.22,-100.5C637.7,-100.5 646.4,-100.5 655.79,-100.5\"/>\n<polygon fill=\"black\" stroke=\"black\" points=\"655.8,-104 665.8,-100.5 655.8,-97 655.8,-104\"/>\n</g>\n<!-- 132454199623104 -->\n<g id=\"node12\" class=\"node\">\n<title>132454199623104</title>\n<polygon fill=\"none\" stroke=\"black\" points=\"1347,-109.5 1347,-145.5 1532,-145.5 1532,-109.5 1347,-109.5\"/>\n<text text-anchor=\"middle\" x=\"1358.5\" y=\"-123.8\" font-family=\"Times,serif\" font-size=\"14.00\">o</text>\n<polyline fill=\"none\" stroke=\"black\" points=\"1370,-109.5 1370,-145.5 \"/>\n<text text-anchor=\"middle\" x=\"1410\" y=\"-123.8\" font-family=\"Times,serif\" font-size=\"14.00\">data 0.7071</text>\n<polyline fill=\"none\" stroke=\"black\" points=\"1450,-109.5 1450,-145.5 \"/>\n<text text-anchor=\"middle\" x=\"1491\" y=\"-123.8\" font-family=\"Times,serif\" font-size=\"14.00\">grad 1.0000</text>\n</g>\n<!-- 132454199623104tanh&#45;&gt;132454199623104 -->\n<g id=\"edge4\" class=\"edge\">\n<title>132454199623104tanh&#45;&gt;132454199623104</title>\n<path fill=\"none\" stroke=\"black\" d=\"M1311.04,-127.5C1318.58,-127.5 1327.3,-127.5 1336.57,-127.5\"/>\n<polygon fill=\"black\" stroke=\"black\" points=\"1336.81,-131 1346.81,-127.5 1336.81,-124 1336.81,-131\"/>\n</g>\n<!-- 132454199615424 -->\n<g id=\"node14\" class=\"node\">\n<title>132454199615424</title>\n<polygon fill=\"none\" stroke=\"black\" points=\"326,-110.5 326,-146.5 540,-146.5 540,-110.5 326,-110.5\"/>\n<text text-anchor=\"middle\" x=\"349.5\" y=\"-124.8\" font-family=\"Times,serif\" font-size=\"14.00\">x1w1</text>\n<polyline fill=\"none\" stroke=\"black\" points=\"373,-110.5 373,-146.5 \"/>\n<text text-anchor=\"middle\" x=\"415.5\" y=\"-124.8\" font-family=\"Times,serif\" font-size=\"14.00\">data &#45;6.0000</text>\n<polyline fill=\"none\" stroke=\"black\" points=\"458,-110.5 458,-146.5 \"/>\n<text text-anchor=\"middle\" x=\"499\" y=\"-124.8\" font-family=\"Times,serif\" font-size=\"14.00\">grad 0.5000</text>\n</g>\n<!-- 132454199615424&#45;&gt;132454199609232+ -->\n<g id=\"edge6\" class=\"edge\">\n<title>132454199615424&#45;&gt;132454199609232+</title>\n<path fill=\"none\" stroke=\"black\" d=\"M540.4,-110.77C549.72,-109.21 558.65,-107.72 566.68,-106.39\"/>\n<polygon fill=\"black\" stroke=\"black\" points=\"567.38,-109.82 576.66,-104.72 566.22,-102.91 567.38,-109.82\"/>\n</g>\n<!-- 132454199615424*&#45;&gt;132454199615424 -->\n<g id=\"edge5\" class=\"edge\">\n<title>132454199615424*&#45;&gt;132454199615424</title>\n<path fill=\"none\" stroke=\"black\" d=\"M290.25,-128.5C297.7,-128.5 306.34,-128.5 315.59,-128.5\"/>\n<polygon fill=\"black\" stroke=\"black\" points=\"315.84,-132 325.84,-128.5 315.84,-125 315.84,-132\"/>\n</g>\n</g>\n</svg>\n",
            "text/plain": [
              "<graphviz.graphs.Digraph at 0x787765844160>"
            ]
          },
          "metadata": {},
          "execution_count": 498
        }
      ]
    },
    {
      "cell_type": "code",
      "source": [
        "x1 = Value(2.0, label='x1')\n",
        "w1 = Value(-3.0, label='w1')\n",
        "x2 = Value(0.0, label='x2')\n",
        "w2 = Value(1.0 , label='w2')\n",
        "b = Value(6.88137, label='b')\n",
        "\n",
        "x1w1 = x1*w1; x1w1.label = \"x1w1\"\n",
        "x2w2 = x2*w2; x2w2.label = \"x2w2\"\n",
        "x1w1x2w2 = x1w1+x2w2; x1w1x2w2.label = \"x1w1x2w2\"\n",
        "\n",
        "n = x1w1x2w2 + b; n.label='n'\n",
        "\n",
        "e = (2*n).exp(); e.label='e'\n",
        "g = (e - 1)/(e + 1); g.label='g'\n",
        "\n",
        "g.label='o'\n",
        "\n",
        "g.backward()\n",
        "draw_dot(g)"
      ],
      "metadata": {
        "colab": {
          "base_uri": "https://localhost:8080/",
          "height": 356
        },
        "id": "Tnn9GAbO4rfx",
        "outputId": "9e90f768-9bcb-4672-b24c-3434b5df717d"
      },
      "execution_count": 499,
      "outputs": [
        {
          "output_type": "execute_result",
          "data": {
            "image/svg+xml": "<?xml version=\"1.0\" encoding=\"UTF-8\" standalone=\"no\"?>\n<!DOCTYPE svg PUBLIC \"-//W3C//DTD SVG 1.1//EN\"\n \"http://www.w3.org/Graphics/SVG/1.1/DTD/svg11.dtd\">\n<!-- Generated by graphviz version 2.43.0 (0)\n -->\n<!-- Title: %3 Pages: 1 -->\n<svg width=\"2909pt\" height=\"236pt\"\n viewBox=\"0.00 0.00 2909.00 236.00\" xmlns=\"http://www.w3.org/2000/svg\" xmlns:xlink=\"http://www.w3.org/1999/xlink\">\n<g id=\"graph0\" class=\"graph\" transform=\"scale(1 1) rotate(0) translate(4 232)\">\n<title>%3</title>\n<polygon fill=\"white\" stroke=\"transparent\" points=\"-4,4 -4,-232 2905,-232 2905,4 -4,4\"/>\n<!-- 132454199618064 -->\n<g id=\"node1\" class=\"node\">\n<title>132454199618064</title>\n<polygon fill=\"none\" stroke=\"black\" points=\"326,-55.5 326,-91.5 540,-91.5 540,-55.5 326,-55.5\"/>\n<text text-anchor=\"middle\" x=\"349.5\" y=\"-69.8\" font-family=\"Times,serif\" font-size=\"14.00\">x1w1</text>\n<polyline fill=\"none\" stroke=\"black\" points=\"373,-55.5 373,-91.5 \"/>\n<text text-anchor=\"middle\" x=\"415.5\" y=\"-69.8\" font-family=\"Times,serif\" font-size=\"14.00\">data &#45;6.0000</text>\n<polyline fill=\"none\" stroke=\"black\" points=\"458,-55.5 458,-91.5 \"/>\n<text text-anchor=\"middle\" x=\"499\" y=\"-69.8\" font-family=\"Times,serif\" font-size=\"14.00\">grad 0.5000</text>\n</g>\n<!-- 132454199620128+ -->\n<g id=\"node4\" class=\"node\">\n<title>132454199620128+</title>\n<ellipse fill=\"none\" stroke=\"black\" cx=\"603\" cy=\"-100.5\" rx=\"27\" ry=\"18\"/>\n<text text-anchor=\"middle\" x=\"603\" y=\"-96.8\" font-family=\"Times,serif\" font-size=\"14.00\">+</text>\n</g>\n<!-- 132454199618064&#45;&gt;132454199620128+ -->\n<g id=\"edge17\" class=\"edge\">\n<title>132454199618064&#45;&gt;132454199620128+</title>\n<path fill=\"none\" stroke=\"black\" d=\"M540.4,-90.6C549.72,-92.1 558.65,-93.53 566.68,-94.82\"/>\n<polygon fill=\"black\" stroke=\"black\" points=\"566.24,-98.3 576.66,-96.43 567.35,-91.39 566.24,-98.3\"/>\n</g>\n<!-- 132454199618064* -->\n<g id=\"node2\" class=\"node\">\n<title>132454199618064*</title>\n<ellipse fill=\"none\" stroke=\"black\" cx=\"263\" cy=\"-73.5\" rx=\"27\" ry=\"18\"/>\n<text text-anchor=\"middle\" x=\"263\" y=\"-69.8\" font-family=\"Times,serif\" font-size=\"14.00\">*</text>\n</g>\n<!-- 132454199618064*&#45;&gt;132454199618064 -->\n<g id=\"edge1\" class=\"edge\">\n<title>132454199618064*&#45;&gt;132454199618064</title>\n<path fill=\"none\" stroke=\"black\" d=\"M290.25,-73.5C297.7,-73.5 306.34,-73.5 315.59,-73.5\"/>\n<polygon fill=\"black\" stroke=\"black\" points=\"315.84,-77 325.84,-73.5 315.84,-70 315.84,-77\"/>\n</g>\n<!-- 132454199620128 -->\n<g id=\"node3\" class=\"node\">\n<title>132454199620128</title>\n<polygon fill=\"none\" stroke=\"black\" points=\"666,-82.5 666,-118.5 910,-118.5 910,-82.5 666,-82.5\"/>\n<text text-anchor=\"middle\" x=\"704.5\" y=\"-96.8\" font-family=\"Times,serif\" font-size=\"14.00\">x1w1x2w2</text>\n<polyline fill=\"none\" stroke=\"black\" points=\"743,-82.5 743,-118.5 \"/>\n<text text-anchor=\"middle\" x=\"785.5\" y=\"-96.8\" font-family=\"Times,serif\" font-size=\"14.00\">data &#45;6.0000</text>\n<polyline fill=\"none\" stroke=\"black\" points=\"828,-82.5 828,-118.5 \"/>\n<text text-anchor=\"middle\" x=\"869\" y=\"-96.8\" font-family=\"Times,serif\" font-size=\"14.00\">grad 0.5000</text>\n</g>\n<!-- 132454199613696+ -->\n<g id=\"node15\" class=\"node\">\n<title>132454199613696+</title>\n<ellipse fill=\"none\" stroke=\"black\" cx=\"973\" cy=\"-127.5\" rx=\"27\" ry=\"18\"/>\n<text text-anchor=\"middle\" x=\"973\" y=\"-123.8\" font-family=\"Times,serif\" font-size=\"14.00\">+</text>\n</g>\n<!-- 132454199620128&#45;&gt;132454199613696+ -->\n<g id=\"edge14\" class=\"edge\">\n<title>132454199620128&#45;&gt;132454199613696+</title>\n<path fill=\"none\" stroke=\"black\" d=\"M910.04,-118.36C919.47,-119.75 928.43,-121.07 936.46,-122.26\"/>\n<polygon fill=\"black\" stroke=\"black\" points=\"936.03,-125.73 946.43,-123.73 937.05,-118.81 936.03,-125.73\"/>\n</g>\n<!-- 132454199620128+&#45;&gt;132454199620128 -->\n<g id=\"edge2\" class=\"edge\">\n<title>132454199620128+&#45;&gt;132454199620128</title>\n<path fill=\"none\" stroke=\"black\" d=\"M630.22,-100.5C637.7,-100.5 646.4,-100.5 655.79,-100.5\"/>\n<polygon fill=\"black\" stroke=\"black\" points=\"655.8,-104 665.8,-100.5 655.8,-97 655.8,-104\"/>\n</g>\n<!-- 132454199623248 -->\n<g id=\"node5\" class=\"node\">\n<title>132454199623248</title>\n<polygon fill=\"none\" stroke=\"black\" points=\"2,-55.5 2,-91.5 198,-91.5 198,-55.5 2,-55.5\"/>\n<text text-anchor=\"middle\" x=\"17\" y=\"-69.8\" font-family=\"Times,serif\" font-size=\"14.00\">x1</text>\n<polyline fill=\"none\" stroke=\"black\" points=\"32,-55.5 32,-91.5 \"/>\n<text text-anchor=\"middle\" x=\"72\" y=\"-69.8\" font-family=\"Times,serif\" font-size=\"14.00\">data 2.0000</text>\n<polyline fill=\"none\" stroke=\"black\" points=\"112,-55.5 112,-91.5 \"/>\n<text text-anchor=\"middle\" x=\"155\" y=\"-69.8\" font-family=\"Times,serif\" font-size=\"14.00\">grad &#45;1.5000</text>\n</g>\n<!-- 132454199623248&#45;&gt;132454199618064* -->\n<g id=\"edge21\" class=\"edge\">\n<title>132454199623248&#45;&gt;132454199618064*</title>\n<path fill=\"none\" stroke=\"black\" d=\"M198.37,-73.5C208.05,-73.5 217.4,-73.5 225.8,-73.5\"/>\n<polygon fill=\"black\" stroke=\"black\" points=\"225.91,-77 235.91,-73.5 225.91,-70 225.91,-77\"/>\n</g>\n<!-- 132454199607408 -->\n<g id=\"node6\" class=\"node\">\n<title>132454199607408</title>\n<polygon fill=\"none\" stroke=\"black\" points=\"2.5,-165.5 2.5,-201.5 197.5,-201.5 197.5,-165.5 2.5,-165.5\"/>\n<text text-anchor=\"middle\" x=\"19\" y=\"-179.8\" font-family=\"Times,serif\" font-size=\"14.00\">w2</text>\n<polyline fill=\"none\" stroke=\"black\" points=\"35.5,-165.5 35.5,-201.5 \"/>\n<text text-anchor=\"middle\" x=\"75.5\" y=\"-179.8\" font-family=\"Times,serif\" font-size=\"14.00\">data 1.0000</text>\n<polyline fill=\"none\" stroke=\"black\" points=\"115.5,-165.5 115.5,-201.5 \"/>\n<text text-anchor=\"middle\" x=\"156.5\" y=\"-179.8\" font-family=\"Times,serif\" font-size=\"14.00\">grad 0.0000</text>\n</g>\n<!-- 132454199619792* -->\n<g id=\"node13\" class=\"node\">\n<title>132454199619792*</title>\n<ellipse fill=\"none\" stroke=\"black\" cx=\"263\" cy=\"-128.5\" rx=\"27\" ry=\"18\"/>\n<text text-anchor=\"middle\" x=\"263\" y=\"-124.8\" font-family=\"Times,serif\" font-size=\"14.00\">*</text>\n</g>\n<!-- 132454199607408&#45;&gt;132454199619792* -->\n<g id=\"edge13\" class=\"edge\">\n<title>132454199607408&#45;&gt;132454199619792*</title>\n<path fill=\"none\" stroke=\"black\" d=\"M172.53,-165.44C181.84,-162.67 191.2,-159.67 200,-156.5 210.53,-152.71 221.75,-147.9 231.72,-143.33\"/>\n<polygon fill=\"black\" stroke=\"black\" points=\"233.25,-146.48 240.82,-139.07 230.28,-140.14 233.25,-146.48\"/>\n</g>\n<!-- 132454199613552 -->\n<g id=\"node7\" class=\"node\">\n<title>132454199613552</title>\n<polygon fill=\"none\" stroke=\"black\" points=\"1037.5,-164.5 1037.5,-200.5 1219.5,-200.5 1219.5,-164.5 1037.5,-164.5\"/>\n<text text-anchor=\"middle\" x=\"1047.5\" y=\"-178.8\" font-family=\"Times,serif\" font-size=\"14.00\"> </text>\n<polyline fill=\"none\" stroke=\"black\" points=\"1057.5,-164.5 1057.5,-200.5 \"/>\n<text text-anchor=\"middle\" x=\"1097.5\" y=\"-178.8\" font-family=\"Times,serif\" font-size=\"14.00\">data 2.0000</text>\n<polyline fill=\"none\" stroke=\"black\" points=\"1137.5,-164.5 1137.5,-200.5 \"/>\n<text text-anchor=\"middle\" x=\"1178.5\" y=\"-178.8\" font-family=\"Times,serif\" font-size=\"14.00\">grad 0.2203</text>\n</g>\n<!-- 132454199614176* -->\n<g id=\"node11\" class=\"node\">\n<title>132454199614176*</title>\n<ellipse fill=\"none\" stroke=\"black\" cx=\"1284\" cy=\"-154.5\" rx=\"27\" ry=\"18\"/>\n<text text-anchor=\"middle\" x=\"1284\" y=\"-150.8\" font-family=\"Times,serif\" font-size=\"14.00\">*</text>\n</g>\n<!-- 132454199613552&#45;&gt;132454199614176* -->\n<g id=\"edge25\" class=\"edge\">\n<title>132454199613552&#45;&gt;132454199614176*</title>\n<path fill=\"none\" stroke=\"black\" d=\"M1219.68,-166.05C1229.61,-164.24 1239.23,-162.48 1247.84,-160.91\"/>\n<polygon fill=\"black\" stroke=\"black\" points=\"1248.6,-164.33 1257.81,-159.09 1247.35,-157.45 1248.6,-164.33\"/>\n</g>\n<!-- 132454199616144 -->\n<g id=\"node8\" class=\"node\">\n<title>132454199616144</title>\n<polygon fill=\"none\" stroke=\"black\" points=\"695.5,-137.5 695.5,-173.5 880.5,-173.5 880.5,-137.5 695.5,-137.5\"/>\n<text text-anchor=\"middle\" x=\"707\" y=\"-151.8\" font-family=\"Times,serif\" font-size=\"14.00\">b</text>\n<polyline fill=\"none\" stroke=\"black\" points=\"718.5,-137.5 718.5,-173.5 \"/>\n<text text-anchor=\"middle\" x=\"758.5\" y=\"-151.8\" font-family=\"Times,serif\" font-size=\"14.00\">data 6.8814</text>\n<polyline fill=\"none\" stroke=\"black\" points=\"798.5,-137.5 798.5,-173.5 \"/>\n<text text-anchor=\"middle\" x=\"839.5\" y=\"-151.8\" font-family=\"Times,serif\" font-size=\"14.00\">grad 0.5000</text>\n</g>\n<!-- 132454199616144&#45;&gt;132454199613696+ -->\n<g id=\"edge11\" class=\"edge\">\n<title>132454199616144&#45;&gt;132454199613696+</title>\n<path fill=\"none\" stroke=\"black\" d=\"M880.77,-141.46C900.52,-138.44 920.26,-135.42 936.29,-132.96\"/>\n<polygon fill=\"black\" stroke=\"black\" points=\"936.9,-136.41 946.26,-131.44 935.85,-129.49 936.9,-136.41\"/>\n</g>\n<!-- 132454199617920 -->\n<g id=\"node9\" class=\"node\">\n<title>132454199617920</title>\n<polygon fill=\"none\" stroke=\"black\" points=\"0,-0.5 0,-36.5 200,-36.5 200,-0.5 0,-0.5\"/>\n<text text-anchor=\"middle\" x=\"16.5\" y=\"-14.8\" font-family=\"Times,serif\" font-size=\"14.00\">w1</text>\n<polyline fill=\"none\" stroke=\"black\" points=\"33,-0.5 33,-36.5 \"/>\n<text text-anchor=\"middle\" x=\"75.5\" y=\"-14.8\" font-family=\"Times,serif\" font-size=\"14.00\">data &#45;3.0000</text>\n<polyline fill=\"none\" stroke=\"black\" points=\"118,-0.5 118,-36.5 \"/>\n<text text-anchor=\"middle\" x=\"159\" y=\"-14.8\" font-family=\"Times,serif\" font-size=\"14.00\">grad 1.0000</text>\n</g>\n<!-- 132454199617920&#45;&gt;132454199618064* -->\n<g id=\"edge18\" class=\"edge\">\n<title>132454199617920&#45;&gt;132454199618064*</title>\n<path fill=\"none\" stroke=\"black\" d=\"M172.53,-36.56C181.84,-39.33 191.2,-42.33 200,-45.5 210.53,-49.29 221.75,-54.1 231.72,-58.67\"/>\n<polygon fill=\"black\" stroke=\"black\" points=\"230.28,-61.86 240.82,-62.93 233.25,-55.52 230.28,-61.86\"/>\n</g>\n<!-- 132454199614176 -->\n<g id=\"node10\" class=\"node\">\n<title>132454199614176</title>\n<polygon fill=\"none\" stroke=\"black\" points=\"1347,-136.5 1347,-172.5 1529,-172.5 1529,-136.5 1347,-136.5\"/>\n<text text-anchor=\"middle\" x=\"1357\" y=\"-150.8\" font-family=\"Times,serif\" font-size=\"14.00\"> </text>\n<polyline fill=\"none\" stroke=\"black\" points=\"1367,-136.5 1367,-172.5 \"/>\n<text text-anchor=\"middle\" x=\"1407\" y=\"-150.8\" font-family=\"Times,serif\" font-size=\"14.00\">data 1.7627</text>\n<polyline fill=\"none\" stroke=\"black\" points=\"1447,-136.5 1447,-172.5 \"/>\n<text text-anchor=\"middle\" x=\"1488\" y=\"-150.8\" font-family=\"Times,serif\" font-size=\"14.00\">grad 0.2500</text>\n</g>\n<!-- 132454199611152exp -->\n<g id=\"node17\" class=\"node\">\n<title>132454199611152exp</title>\n<ellipse fill=\"none\" stroke=\"black\" cx=\"1592\" cy=\"-154.5\" rx=\"27\" ry=\"18\"/>\n<text text-anchor=\"middle\" x=\"1592\" y=\"-150.8\" font-family=\"Times,serif\" font-size=\"14.00\">exp</text>\n</g>\n<!-- 132454199614176&#45;&gt;132454199611152exp -->\n<g id=\"edge26\" class=\"edge\">\n<title>132454199614176&#45;&gt;132454199611152exp</title>\n<path fill=\"none\" stroke=\"black\" d=\"M1529.18,-154.5C1538.14,-154.5 1546.83,-154.5 1554.73,-154.5\"/>\n<polygon fill=\"black\" stroke=\"black\" points=\"1554.96,-158 1564.96,-154.5 1554.96,-151 1554.96,-158\"/>\n</g>\n<!-- 132454199614176*&#45;&gt;132454199614176 -->\n<g id=\"edge3\" class=\"edge\">\n<title>132454199614176*&#45;&gt;132454199614176</title>\n<path fill=\"none\" stroke=\"black\" d=\"M1311.13,-154.5C1318.67,-154.5 1327.39,-154.5 1336.64,-154.5\"/>\n<polygon fill=\"black\" stroke=\"black\" points=\"1336.87,-158 1346.87,-154.5 1336.87,-151 1336.87,-158\"/>\n</g>\n<!-- 132454199619792 -->\n<g id=\"node12\" class=\"node\">\n<title>132454199619792</title>\n<polygon fill=\"none\" stroke=\"black\" points=\"328.5,-110.5 328.5,-146.5 537.5,-146.5 537.5,-110.5 328.5,-110.5\"/>\n<text text-anchor=\"middle\" x=\"352\" y=\"-124.8\" font-family=\"Times,serif\" font-size=\"14.00\">x2w2</text>\n<polyline fill=\"none\" stroke=\"black\" points=\"375.5,-110.5 375.5,-146.5 \"/>\n<text text-anchor=\"middle\" x=\"415.5\" y=\"-124.8\" font-family=\"Times,serif\" font-size=\"14.00\">data 0.0000</text>\n<polyline fill=\"none\" stroke=\"black\" points=\"455.5,-110.5 455.5,-146.5 \"/>\n<text text-anchor=\"middle\" x=\"496.5\" y=\"-124.8\" font-family=\"Times,serif\" font-size=\"14.00\">grad 0.5000</text>\n</g>\n<!-- 132454199619792&#45;&gt;132454199620128+ -->\n<g id=\"edge19\" class=\"edge\">\n<title>132454199619792&#45;&gt;132454199620128+</title>\n<path fill=\"none\" stroke=\"black\" d=\"M537.53,-111.25C547.8,-109.53 557.66,-107.89 566.45,-106.43\"/>\n<polygon fill=\"black\" stroke=\"black\" points=\"567.3,-109.83 576.59,-104.74 566.15,-102.93 567.3,-109.83\"/>\n</g>\n<!-- 132454199619792*&#45;&gt;132454199619792 -->\n<g id=\"edge4\" class=\"edge\">\n<title>132454199619792*&#45;&gt;132454199619792</title>\n<path fill=\"none\" stroke=\"black\" d=\"M290.25,-128.5C298.43,-128.5 308.03,-128.5 318.31,-128.5\"/>\n<polygon fill=\"black\" stroke=\"black\" points=\"318.35,-132 328.35,-128.5 318.35,-125 318.35,-132\"/>\n</g>\n<!-- 132454199613696 -->\n<g id=\"node14\" class=\"node\">\n<title>132454199613696</title>\n<polygon fill=\"none\" stroke=\"black\" points=\"1036,-109.5 1036,-145.5 1221,-145.5 1221,-109.5 1036,-109.5\"/>\n<text text-anchor=\"middle\" x=\"1047.5\" y=\"-123.8\" font-family=\"Times,serif\" font-size=\"14.00\">n</text>\n<polyline fill=\"none\" stroke=\"black\" points=\"1059,-109.5 1059,-145.5 \"/>\n<text text-anchor=\"middle\" x=\"1099\" y=\"-123.8\" font-family=\"Times,serif\" font-size=\"14.00\">data 0.8814</text>\n<polyline fill=\"none\" stroke=\"black\" points=\"1139,-109.5 1139,-145.5 \"/>\n<text text-anchor=\"middle\" x=\"1180\" y=\"-123.8\" font-family=\"Times,serif\" font-size=\"14.00\">grad 0.5000</text>\n</g>\n<!-- 132454199613696&#45;&gt;132454199614176* -->\n<g id=\"edge15\" class=\"edge\">\n<title>132454199613696&#45;&gt;132454199614176*</title>\n<path fill=\"none\" stroke=\"black\" d=\"M1221.01,-143.6C1230.49,-145.26 1239.66,-146.88 1247.9,-148.33\"/>\n<polygon fill=\"black\" stroke=\"black\" points=\"1247.36,-151.78 1257.81,-150.07 1248.57,-144.89 1247.36,-151.78\"/>\n</g>\n<!-- 132454199613696+&#45;&gt;132454199613696 -->\n<g id=\"edge5\" class=\"edge\">\n<title>132454199613696+&#45;&gt;132454199613696</title>\n<path fill=\"none\" stroke=\"black\" d=\"M1000.04,-127.5C1007.58,-127.5 1016.3,-127.5 1025.57,-127.5\"/>\n<polygon fill=\"black\" stroke=\"black\" points=\"1025.81,-131 1035.81,-127.5 1025.81,-124 1025.81,-131\"/>\n</g>\n<!-- 132454199611152 -->\n<g id=\"node16\" class=\"node\">\n<title>132454199611152</title>\n<polygon fill=\"none\" stroke=\"black\" points=\"1656,-136.5 1656,-172.5 1841,-172.5 1841,-136.5 1656,-136.5\"/>\n<text text-anchor=\"middle\" x=\"1667.5\" y=\"-150.8\" font-family=\"Times,serif\" font-size=\"14.00\">e</text>\n<polyline fill=\"none\" stroke=\"black\" points=\"1679,-136.5 1679,-172.5 \"/>\n<text text-anchor=\"middle\" x=\"1719\" y=\"-150.8\" font-family=\"Times,serif\" font-size=\"14.00\">data 5.8284</text>\n<polyline fill=\"none\" stroke=\"black\" points=\"1759,-136.5 1759,-172.5 \"/>\n<text text-anchor=\"middle\" x=\"1800\" y=\"-150.8\" font-family=\"Times,serif\" font-size=\"14.00\">grad 0.0429</text>\n</g>\n<!-- 132454199612256+ -->\n<g id=\"node23\" class=\"node\">\n<title>132454199612256+</title>\n<ellipse fill=\"none\" stroke=\"black\" cx=\"1905\" cy=\"-126.5\" rx=\"27\" ry=\"18\"/>\n<text text-anchor=\"middle\" x=\"1905\" y=\"-122.8\" font-family=\"Times,serif\" font-size=\"14.00\">+</text>\n</g>\n<!-- 132454199611152&#45;&gt;132454199612256+ -->\n<g id=\"edge22\" class=\"edge\">\n<title>132454199611152&#45;&gt;132454199612256+</title>\n<path fill=\"none\" stroke=\"black\" d=\"M1841.16,-137.89C1850.84,-136.13 1860.22,-134.43 1868.64,-132.91\"/>\n<polygon fill=\"black\" stroke=\"black\" points=\"1869.53,-136.3 1878.75,-131.08 1868.28,-129.42 1869.53,-136.3\"/>\n</g>\n<!-- 132454199614896+ -->\n<g id=\"node28\" class=\"node\">\n<title>132454199614896+</title>\n<ellipse fill=\"none\" stroke=\"black\" cx=\"1905\" cy=\"-181.5\" rx=\"27\" ry=\"18\"/>\n<text text-anchor=\"middle\" x=\"1905\" y=\"-177.8\" font-family=\"Times,serif\" font-size=\"14.00\">+</text>\n</g>\n<!-- 132454199611152&#45;&gt;132454199614896+ -->\n<g id=\"edge16\" class=\"edge\">\n<title>132454199611152&#45;&gt;132454199614896+</title>\n<path fill=\"none\" stroke=\"black\" d=\"M1841.16,-170.52C1850.84,-172.21 1860.22,-173.85 1868.64,-175.32\"/>\n<polygon fill=\"black\" stroke=\"black\" points=\"1868.29,-178.81 1878.75,-177.09 1869.5,-171.92 1868.29,-178.81\"/>\n</g>\n<!-- 132454199611152exp&#45;&gt;132454199611152 -->\n<g id=\"edge6\" class=\"edge\">\n<title>132454199611152exp&#45;&gt;132454199611152</title>\n<path fill=\"none\" stroke=\"black\" d=\"M1619.21,-154.5C1627,-154.5 1636.05,-154.5 1645.67,-154.5\"/>\n<polygon fill=\"black\" stroke=\"black\" points=\"1645.87,-158 1655.87,-154.5 1645.87,-151 1645.87,-158\"/>\n</g>\n<!-- 132454199614752 -->\n<g id=\"node18\" class=\"node\">\n<title>132454199614752</title>\n<polygon fill=\"none\" stroke=\"black\" points=\"1655,-81.5 1655,-117.5 1842,-117.5 1842,-81.5 1655,-81.5\"/>\n<text text-anchor=\"middle\" x=\"1665\" y=\"-95.8\" font-family=\"Times,serif\" font-size=\"14.00\"> </text>\n<polyline fill=\"none\" stroke=\"black\" points=\"1675,-81.5 1675,-117.5 \"/>\n<text text-anchor=\"middle\" x=\"1717.5\" y=\"-95.8\" font-family=\"Times,serif\" font-size=\"14.00\">data &#45;1.0000</text>\n<polyline fill=\"none\" stroke=\"black\" points=\"1760,-81.5 1760,-117.5 \"/>\n<text text-anchor=\"middle\" x=\"1801\" y=\"-95.8\" font-family=\"Times,serif\" font-size=\"14.00\">grad 0.1464</text>\n</g>\n<!-- 132454199614752&#45;&gt;132454199612256+ -->\n<g id=\"edge23\" class=\"edge\">\n<title>132454199614752&#45;&gt;132454199612256+</title>\n<path fill=\"none\" stroke=\"black\" d=\"M1842.05,-115.67C1851.34,-117.3 1860.33,-118.87 1868.44,-120.29\"/>\n<polygon fill=\"black\" stroke=\"black\" points=\"1868.1,-123.78 1878.55,-122.05 1869.3,-116.88 1868.1,-123.78\"/>\n</g>\n<!-- 132454199610672 -->\n<g id=\"node19\" class=\"node\">\n<title>132454199610672</title>\n<polygon fill=\"none\" stroke=\"black\" points=\"4,-110.5 4,-146.5 196,-146.5 196,-110.5 4,-110.5\"/>\n<text text-anchor=\"middle\" x=\"19\" y=\"-124.8\" font-family=\"Times,serif\" font-size=\"14.00\">x2</text>\n<polyline fill=\"none\" stroke=\"black\" points=\"34,-110.5 34,-146.5 \"/>\n<text text-anchor=\"middle\" x=\"74\" y=\"-124.8\" font-family=\"Times,serif\" font-size=\"14.00\">data 0.0000</text>\n<polyline fill=\"none\" stroke=\"black\" points=\"114,-110.5 114,-146.5 \"/>\n<text text-anchor=\"middle\" x=\"155\" y=\"-124.8\" font-family=\"Times,serif\" font-size=\"14.00\">grad 0.5000</text>\n</g>\n<!-- 132454199610672&#45;&gt;132454199619792* -->\n<g id=\"edge20\" class=\"edge\">\n<title>132454199610672&#45;&gt;132454199619792*</title>\n<path fill=\"none\" stroke=\"black\" d=\"M196.05,-128.5C206.52,-128.5 216.65,-128.5 225.71,-128.5\"/>\n<polygon fill=\"black\" stroke=\"black\" points=\"225.79,-132 235.79,-128.5 225.79,-125 225.79,-132\"/>\n</g>\n<!-- 132454199616864 -->\n<g id=\"node20\" class=\"node\">\n<title>132454199616864</title>\n<polygon fill=\"none\" stroke=\"black\" points=\"2716,-135.5 2716,-171.5 2901,-171.5 2901,-135.5 2716,-135.5\"/>\n<text text-anchor=\"middle\" x=\"2727.5\" y=\"-149.8\" font-family=\"Times,serif\" font-size=\"14.00\">o</text>\n<polyline fill=\"none\" stroke=\"black\" points=\"2739,-135.5 2739,-171.5 \"/>\n<text text-anchor=\"middle\" x=\"2779\" y=\"-149.8\" font-family=\"Times,serif\" font-size=\"14.00\">data 0.7071</text>\n<polyline fill=\"none\" stroke=\"black\" points=\"2819,-135.5 2819,-171.5 \"/>\n<text text-anchor=\"middle\" x=\"2860\" y=\"-149.8\" font-family=\"Times,serif\" font-size=\"14.00\">grad 1.0000</text>\n</g>\n<!-- 132454199616864* -->\n<g id=\"node21\" class=\"node\">\n<title>132454199616864*</title>\n<ellipse fill=\"none\" stroke=\"black\" cx=\"2653\" cy=\"-153.5\" rx=\"27\" ry=\"18\"/>\n<text text-anchor=\"middle\" x=\"2653\" y=\"-149.8\" font-family=\"Times,serif\" font-size=\"14.00\">*</text>\n</g>\n<!-- 132454199616864*&#45;&gt;132454199616864 -->\n<g id=\"edge7\" class=\"edge\">\n<title>132454199616864*&#45;&gt;132454199616864</title>\n<path fill=\"none\" stroke=\"black\" d=\"M2680.04,-153.5C2687.58,-153.5 2696.3,-153.5 2705.57,-153.5\"/>\n<polygon fill=\"black\" stroke=\"black\" points=\"2705.81,-157 2715.81,-153.5 2705.81,-150 2705.81,-157\"/>\n</g>\n<!-- 132454199612256 -->\n<g id=\"node22\" class=\"node\">\n<title>132454199612256</title>\n<polygon fill=\"none\" stroke=\"black\" points=\"2190,-108.5 2190,-144.5 2372,-144.5 2372,-108.5 2190,-108.5\"/>\n<text text-anchor=\"middle\" x=\"2200\" y=\"-122.8\" font-family=\"Times,serif\" font-size=\"14.00\"> </text>\n<polyline fill=\"none\" stroke=\"black\" points=\"2210,-108.5 2210,-144.5 \"/>\n<text text-anchor=\"middle\" x=\"2250\" y=\"-122.8\" font-family=\"Times,serif\" font-size=\"14.00\">data 4.8284</text>\n<polyline fill=\"none\" stroke=\"black\" points=\"2290,-108.5 2290,-144.5 \"/>\n<text text-anchor=\"middle\" x=\"2331\" y=\"-122.8\" font-family=\"Times,serif\" font-size=\"14.00\">grad 0.1464</text>\n</g>\n<!-- 132454199612256&#45;&gt;132454199616864* -->\n<g id=\"edge24\" class=\"edge\">\n<title>132454199612256&#45;&gt;132454199616864*</title>\n<path fill=\"none\" stroke=\"black\" d=\"M2372.04,-133.07C2450.41,-138.79 2559.98,-146.79 2615.96,-150.87\"/>\n<polygon fill=\"black\" stroke=\"black\" points=\"2615.87,-154.37 2626.1,-151.61 2616.38,-147.39 2615.87,-154.37\"/>\n</g>\n<!-- 132454199612256+&#45;&gt;132454199612256 -->\n<g id=\"edge8\" class=\"edge\">\n<title>132454199612256+&#45;&gt;132454199612256</title>\n<path fill=\"none\" stroke=\"black\" d=\"M1932,-126.5C1982.46,-126.5 2096.06,-126.5 2179.81,-126.5\"/>\n<polygon fill=\"black\" stroke=\"black\" points=\"2179.87,-130 2189.87,-126.5 2179.87,-123 2179.87,-130\"/>\n</g>\n<!-- 132454199611776 -->\n<g id=\"node24\" class=\"node\">\n<title>132454199611776</title>\n<polygon fill=\"none\" stroke=\"black\" points=\"1655.5,-191.5 1655.5,-227.5 1841.5,-227.5 1841.5,-191.5 1655.5,-191.5\"/>\n<text text-anchor=\"middle\" x=\"1665.5\" y=\"-205.8\" font-family=\"Times,serif\" font-size=\"14.00\"> </text>\n<polyline fill=\"none\" stroke=\"black\" points=\"1675.5,-191.5 1675.5,-227.5 \"/>\n<text text-anchor=\"middle\" x=\"1715.5\" y=\"-205.8\" font-family=\"Times,serif\" font-size=\"14.00\">data 1.0000</text>\n<polyline fill=\"none\" stroke=\"black\" points=\"1755.5,-191.5 1755.5,-227.5 \"/>\n<text text-anchor=\"middle\" x=\"1798.5\" y=\"-205.8\" font-family=\"Times,serif\" font-size=\"14.00\">grad &#45;0.1036</text>\n</g>\n<!-- 132454199611776&#45;&gt;132454199614896+ -->\n<g id=\"edge28\" class=\"edge\">\n<title>132454199611776&#45;&gt;132454199614896+</title>\n<path fill=\"none\" stroke=\"black\" d=\"M1841.6,-192.81C1851.15,-191.08 1860.37,-189.41 1868.68,-187.9\"/>\n<polygon fill=\"black\" stroke=\"black\" points=\"1869.43,-191.32 1878.65,-186.09 1868.18,-184.43 1869.43,-191.32\"/>\n</g>\n<!-- 132454199607696 -->\n<g id=\"node25\" class=\"node\">\n<title>132454199607696</title>\n<polygon fill=\"none\" stroke=\"black\" points=\"2408,-161.5 2408,-197.5 2590,-197.5 2590,-161.5 2408,-161.5\"/>\n<text text-anchor=\"middle\" x=\"2418\" y=\"-175.8\" font-family=\"Times,serif\" font-size=\"14.00\"> </text>\n<polyline fill=\"none\" stroke=\"black\" points=\"2428,-161.5 2428,-197.5 \"/>\n<text text-anchor=\"middle\" x=\"2468\" y=\"-175.8\" font-family=\"Times,serif\" font-size=\"14.00\">data 0.1464</text>\n<polyline fill=\"none\" stroke=\"black\" points=\"2508,-161.5 2508,-197.5 \"/>\n<text text-anchor=\"middle\" x=\"2549\" y=\"-175.8\" font-family=\"Times,serif\" font-size=\"14.00\">grad 4.8284</text>\n</g>\n<!-- 132454199607696&#45;&gt;132454199616864* -->\n<g id=\"edge27\" class=\"edge\">\n<title>132454199607696&#45;&gt;132454199616864*</title>\n<path fill=\"none\" stroke=\"black\" d=\"M2590.18,-164.08C2599.42,-162.49 2608.38,-160.96 2616.47,-159.58\"/>\n<polygon fill=\"black\" stroke=\"black\" points=\"2617.29,-162.99 2626.56,-157.85 2616.11,-156.09 2617.29,-162.99\"/>\n</g>\n<!-- 132454199607696**&#45;1 -->\n<g id=\"node26\" class=\"node\">\n<title>132454199607696**&#45;1</title>\n<ellipse fill=\"none\" stroke=\"black\" cx=\"2281\" cy=\"-181.5\" rx=\"27\" ry=\"18\"/>\n<text text-anchor=\"middle\" x=\"2281\" y=\"-177.8\" font-family=\"Times,serif\" font-size=\"14.00\">**&#45;1</text>\n</g>\n<!-- 132454199607696**&#45;1&#45;&gt;132454199607696 -->\n<g id=\"edge9\" class=\"edge\">\n<title>132454199607696**&#45;1&#45;&gt;132454199607696</title>\n<path fill=\"none\" stroke=\"black\" d=\"M2308.05,-181.26C2330.53,-181.05 2364.48,-180.74 2397.5,-180.43\"/>\n<polygon fill=\"black\" stroke=\"black\" points=\"2397.74,-183.93 2407.7,-180.34 2397.67,-176.93 2397.74,-183.93\"/>\n</g>\n<!-- 132454199614896 -->\n<g id=\"node27\" class=\"node\">\n<title>132454199614896</title>\n<polygon fill=\"none\" stroke=\"black\" points=\"1968,-163.5 1968,-199.5 2154,-199.5 2154,-163.5 1968,-163.5\"/>\n<text text-anchor=\"middle\" x=\"1978\" y=\"-177.8\" font-family=\"Times,serif\" font-size=\"14.00\"> </text>\n<polyline fill=\"none\" stroke=\"black\" points=\"1988,-163.5 1988,-199.5 \"/>\n<text text-anchor=\"middle\" x=\"2028\" y=\"-177.8\" font-family=\"Times,serif\" font-size=\"14.00\">data 6.8284</text>\n<polyline fill=\"none\" stroke=\"black\" points=\"2068,-163.5 2068,-199.5 \"/>\n<text text-anchor=\"middle\" x=\"2111\" y=\"-177.8\" font-family=\"Times,serif\" font-size=\"14.00\">grad &#45;0.1036</text>\n</g>\n<!-- 132454199614896&#45;&gt;132454199607696**&#45;1 -->\n<g id=\"edge12\" class=\"edge\">\n<title>132454199614896&#45;&gt;132454199607696**&#45;1</title>\n<path fill=\"none\" stroke=\"black\" d=\"M2154.14,-181.5C2185.72,-181.5 2219.24,-181.5 2243.74,-181.5\"/>\n<polygon fill=\"black\" stroke=\"black\" points=\"2243.98,-185 2253.98,-181.5 2243.98,-178 2243.98,-185\"/>\n</g>\n<!-- 132454199614896+&#45;&gt;132454199614896 -->\n<g id=\"edge10\" class=\"edge\">\n<title>132454199614896+&#45;&gt;132454199614896</title>\n<path fill=\"none\" stroke=\"black\" d=\"M1932.12,-181.5C1939.62,-181.5 1948.29,-181.5 1957.5,-181.5\"/>\n<polygon fill=\"black\" stroke=\"black\" points=\"1957.69,-185 1967.69,-181.5 1957.69,-178 1957.69,-185\"/>\n</g>\n</g>\n</svg>\n",
            "text/plain": [
              "<graphviz.graphs.Digraph at 0x787765845210>"
            ]
          },
          "metadata": {},
          "execution_count": 499
        }
      ]
    },
    {
      "cell_type": "code",
      "source": [
        "from torch.storage import T\n",
        "import torch\n",
        "import random\n",
        "\n",
        "x1 = torch.Tensor([2.0]).double(); x1.requires_grad = True\n",
        "w1 = torch.Tensor([-3.0]).double(); w1.requires_grad = True\n",
        "x2 = torch.Tensor([0.0]).double(); x2.requires_grad = True\n",
        "w2 = torch.Tensor([1.0]).double(); w2.requires_grad = True\n",
        "b = torch.Tensor([6.88137]).double(); b.requires_grad = True\n",
        "\n",
        "n = x1*w1 + x2*w2 + b\n",
        "o = torch.tanh(n)\n",
        "\n",
        "print(o.data.item())\n",
        "o.backward()\n",
        "print('___')\n",
        "print('x2', x2.grad.item())\n",
        "print('w2', w2.grad.item())\n",
        "print('x1', x1.grad.item())\n",
        "print('w1', w1.grad.item())"
      ],
      "metadata": {
        "colab": {
          "base_uri": "https://localhost:8080/"
        },
        "id": "NL2az6pgf7HU",
        "outputId": "c4e8913c-a9e2-4dd7-982f-8dae58c1c318"
      },
      "execution_count": 500,
      "outputs": [
        {
          "output_type": "stream",
          "name": "stdout",
          "text": [
            "0.7071050214706146\n",
            "___\n",
            "x2 0.5000024886110417\n",
            "w2 0.0\n",
            "x1 -1.500007465833125\n",
            "w1 1.0000049772220834\n"
          ]
        }
      ]
    },
    {
      "cell_type": "code",
      "source": [
        "class Neuron:\n",
        "\n",
        "  def __init__(self, nin):\n",
        "    self.w = [Value(random.uniform(-1,1)) for _ in range(nin)]\n",
        "    self.b = Value(random.uniform(-1,1))\n",
        "\n",
        "  def __call__(self, x):\n",
        "    act = sum((wi*xi for wi, xi in zip(self.w, x)), self.b)\n",
        "    out = act.two_tanh()\n",
        "    return out\n",
        "\n",
        "  def parameters(self):\n",
        "    return self.w + [self.b]\n",
        "\n",
        "class Layer:\n",
        "\n",
        "  def __init__(self, nin, nout):\n",
        "    self.neurons = [Neuron(nin) for _ in range(nout)]\n",
        "\n",
        "  def __call__(self, x):\n",
        "    outs = [n(x) for n in self.neurons]\n",
        "    return outs[0] if len(outs) == 1 else outs\n",
        "\n",
        "  def parameters(self):\n",
        "    return [p for neuron in self.neurons for p in neuron.parameters()]\n",
        "\n",
        "class MLP:\n",
        "\n",
        "  def __init__(self, nin, nouts):\n",
        "    sz = [nin] + nouts\n",
        "    self.layers = [Layer(sz[i], sz[i+1]) for i in range(len(nouts))]\n",
        "\n",
        "  def __call__(self, x):\n",
        "    for layer in self.layers:\n",
        "      x = layer(x)\n",
        "    return x\n",
        "\n",
        "  def parameters(self):\n",
        "    return [p for layer in self.layers for p in layer.parameters()]\n",
        "\n",
        "def listsum(list):\n",
        "  sum = 0\n",
        "  for i in range(0, len(list)):\n",
        "    sum = list[i] + sum\n",
        "  return sum"
      ],
      "metadata": {
        "id": "zZwBneJEgKkI"
      },
      "execution_count": 625,
      "outputs": []
    },
    {
      "cell_type": "code",
      "source": [
        "x = [2.0, 3.0, -1.0]\n",
        "n = MLP(3, [4, 4, 1])\n",
        "n(x)"
      ],
      "metadata": {
        "colab": {
          "base_uri": "https://localhost:8080/"
        },
        "id": "u12c62MY2li8",
        "outputId": "f6dbfa52-bd6b-41ac-c02a-bb4fff8ac7df"
      },
      "execution_count": 513,
      "outputs": [
        {
          "output_type": "execute_result",
          "data": {
            "text/plain": [
              "Value(data=-0.9475305024214254)"
            ]
          },
          "metadata": {},
          "execution_count": 513
        }
      ]
    },
    {
      "cell_type": "code",
      "source": [
        "xs =[\n",
        "    [2.0, 3.0, -1,0],\n",
        "    [3.0, -1.0, 0.5],\n",
        "    [0.5, 1.0, 1.0],\n",
        "    [1.0, 1.0, -1.0],\n",
        "]\n",
        "\n",
        "ys = [1.0, -1.0, -1.0, 1.0]\n",
        "\n",
        "ypred = [n(x) for x in xs]\n",
        "ypred"
      ],
      "metadata": {
        "colab": {
          "base_uri": "https://localhost:8080/"
        },
        "id": "wOsokD76m5r2",
        "outputId": "9be23334-d25c-44bc-f4fb-8f55c9ad8f20"
      },
      "execution_count": 514,
      "outputs": [
        {
          "output_type": "execute_result",
          "data": {
            "text/plain": [
              "[Value(data=-0.9475305024214254),\n",
              " Value(data=-0.9602512593458459),\n",
              " Value(data=0.11474146228507265),\n",
              " Value(data=-0.958375416437722)]"
            ]
          },
          "metadata": {},
          "execution_count": 514
        }
      ]
    },
    {
      "cell_type": "code",
      "source": [
        "for k in range(50):\n",
        "\n",
        "  #forward pass\n",
        "  ypred = [n(x) for x in xs]\n",
        "  loss = listsum([(yout - ygt)**2 for yout, ygt in zip(ypred, ys)])\n",
        "\n",
        "  #backward pass\n",
        "  for p in n.parameters():\n",
        "    p.grad = 0.0\n",
        "  loss.backward()\n",
        "\n",
        "  # update\n",
        "  for p in n.parameters():\n",
        "    p.data += -0.1 *p.grad\n",
        "\n",
        "  print(k, loss.data)\n"
      ],
      "metadata": {
        "colab": {
          "base_uri": "https://localhost:8080/"
        },
        "id": "A9KpnqfPn2Pl",
        "outputId": "b4ff5238-9323-44c4-de1f-7a5c0a4ac376"
      },
      "execution_count": 515,
      "outputs": [
        {
          "output_type": "stream",
          "name": "stdout",
          "text": [
            "0 8.872337819690523\n",
            "1 7.663721261234253\n",
            "2 7.44974592317025\n",
            "3 6.867623517723474\n",
            "4 4.77954176991971\n",
            "5 3.7876914238187354\n",
            "6 3.4336403151072448\n",
            "7 2.379436193895468\n",
            "8 0.9180575629983481\n",
            "9 0.17942393458253236\n",
            "10 0.12665844280818567\n",
            "11 0.10034448703765633\n",
            "12 0.08326881019872388\n",
            "13 0.07106047812346244\n",
            "14 0.06184980883738331\n",
            "15 0.05464581685035025\n",
            "16 0.048859096623224046\n",
            "17 0.044112696325340386\n",
            "18 0.04015292151915734\n",
            "19 0.03680231453496957\n",
            "20 0.03393287816092087\n",
            "21 0.03144993117766126\n",
            "22 0.029281931338414224\n",
            "23 0.027373824800817584\n",
            "24 0.025682567681415688\n",
            "25 0.024174032269287722\n",
            "26 0.022820821987321636\n",
            "27 0.021600697934312026\n",
            "28 0.020495426166963555\n",
            "29 0.019489920121150885\n",
            "30 0.018571593698627886\n",
            "31 0.01772986709647649\n",
            "32 0.016955784965508324\n",
            "33 0.016241718252362747\n",
            "34 0.015581129127981435\n",
            "35 0.014968383995987333\n",
            "36 0.01439860351475273\n",
            "37 0.013867541380934132\n",
            "38 0.013371485656648249\n",
            "39 0.012907177910010122\n",
            "40 0.012471746537980274\n",
            "41 0.01206265146076761\n",
            "42 0.011677637994842435\n",
            "43 0.011314698180943113\n",
            "44 0.010972038202895404\n",
            "45 0.010648050810441373\n",
            "46 0.010341291874877971\n",
            "47 0.010050460375031484\n",
            "48 0.009774381243988594\n",
            "49 0.009511990612319034\n"
          ]
        }
      ]
    },
    {
      "cell_type": "code",
      "source": [
        "xs = [[2.0], [3.0], [4.0]]\n",
        "ys = [2.0, -1.0, -2.0]\n",
        "n = MLP(1, [4, 4, 1])\n",
        "\n",
        "ypred = [n(x) for x in xs]\n",
        "ypred\n"
      ],
      "metadata": {
        "colab": {
          "base_uri": "https://localhost:8080/"
        },
        "id": "IbiySlkcCA94",
        "outputId": "489532a3-0fd9-4a2c-95e0-ea8698545ffb"
      },
      "execution_count": 516,
      "outputs": [
        {
          "output_type": "execute_result",
          "data": {
            "text/plain": [
              "[Value(data=0.8189238133145118),\n",
              " Value(data=0.8616102661027651),\n",
              " Value(data=0.8801937646851282)]"
            ]
          },
          "metadata": {},
          "execution_count": 516
        }
      ]
    },
    {
      "cell_type": "code",
      "source": [
        "for k in range(300):\n",
        "\n",
        "  #forward pass\n",
        "  ypred = [n(x) for x in xs]\n",
        "  loss = listsum([(yout - ygt)**2 for yout, ygt in zip(ypred, ys)])\n",
        "\n",
        "  #backward pass\n",
        "  for p in n.parameters():\n",
        "    p.grad = 0.0\n",
        "  loss.backward()\n",
        "\n",
        "  # update\n",
        "  for p in n.parameters():\n",
        "    p.data += -0.1 *p.grad\n",
        "\n",
        "  if k%5 == 0:\n",
        "    print(k, loss.data)\n",
        "\n",
        "  #The network doesnt converge for this step size, it is too large and the\n",
        "  #network appears confused"
      ],
      "metadata": {
        "id": "n0T9T2cBDGIS"
      },
      "execution_count": null,
      "outputs": []
    },
    {
      "cell_type": "code",
      "source": [
        "xs = [[2.0], [3.0], [4.0]]\n",
        "ys = [2.0, -1.0, -2.0]\n",
        "m = MLP(1, [4, 4, 1])\n",
        "\n",
        "ypred = [m(x) for x in xs]\n",
        "ypred"
      ],
      "metadata": {
        "id": "qf96UxmoEX5P"
      },
      "execution_count": null,
      "outputs": []
    },
    {
      "cell_type": "code",
      "source": [
        "for k in range(300):\n",
        "\n",
        "  #forward pass\n",
        "  ypred = [n(x) for x in xs]\n",
        "  loss = listsum([(yout - ygt)**2 for yout, ygt in zip(ypred, ys)])\n",
        "\n",
        "  #backward pass\n",
        "  for p in n.parameters():\n",
        "    p.grad = 0.0\n",
        "  loss.backward()\n",
        "\n",
        "  # update\n",
        "  for p in n.parameters():\n",
        "    p.data += -0.02 *p.grad\n",
        "\n",
        "  if k%5 == 0:\n",
        "    print(k, loss.data)\n",
        "\n",
        "  #This step size is better but tanh is bounded between -1 and 1 so the last layer\n",
        "  # of the network will never output -2 or 2, therefore using tanh() will\n",
        "  # approach 2  - (-2 - (-1))^2  + (2 - 1)^2"
      ],
      "metadata": {
        "id": "KHYiC6KAInV_"
      },
      "execution_count": null,
      "outputs": []
    },
    {
      "cell_type": "code",
      "source": [
        "xs = [[2.0], [3.0], [4.0]]\n",
        "ys = [2.0, -1.0, -2.0]\n",
        "nn = MLP(1, [4, 4, 1])\n",
        "\n",
        "ypred = [nn(x) for x in xs]\n",
        "ypred"
      ],
      "metadata": {
        "colab": {
          "base_uri": "https://localhost:8080/"
        },
        "id": "6ePTQW_sK92v",
        "outputId": "e26dd488-033d-4962-b102-4cf7f83fc07e"
      },
      "execution_count": 622,
      "outputs": [
        {
          "output_type": "execute_result",
          "data": {
            "text/plain": [
              "[Value(data=1.7932082186529767),\n",
              " Value(data=1.809464344525416),\n",
              " Value(data=1.8242037780722953)]"
            ]
          },
          "metadata": {},
          "execution_count": 622
        }
      ]
    },
    {
      "cell_type": "code",
      "source": [
        "for k in range(300):\n",
        "\n",
        "  #forward pass\n",
        "  ypred = [nn(x) for x in xs]\n",
        "  loss = listsum([(yout - ygt)**2 for yout, ygt in zip(ypred, ys)])\n",
        "\n",
        "  #backward pass\n",
        "  for p in nn.parameters():\n",
        "    p.grad = 0.0\n",
        "  loss.backward()\n",
        "\n",
        "  # update\n",
        "  for p in nn.parameters():\n",
        "    p.data += -0.001 *p.grad\n",
        "\n",
        "  print(k, loss.data)\n",
        "\n",
        "  #By changing the activiation function to 2*tanh instead of tanh(, the target\n",
        "  #output values are now in the range of the activation function and the network\n",
        "  # is able to fully minimize the cost function"
      ],
      "metadata": {
        "colab": {
          "base_uri": "https://localhost:8080/"
        },
        "id": "gTDreIBAK77j",
        "outputId": "32d24d33-7253-4a0b-e2eb-e244ab36e05b"
      },
      "execution_count": 626,
      "outputs": [
        {
          "output_type": "stream",
          "name": "stdout",
          "text": [
            "0 0.05115185378083798\n",
            "1 0.05091346476100724\n",
            "2 0.05067714970247156\n",
            "3 0.05044288280662917\n",
            "4 0.05021063868725837\n",
            "5 0.04998039236252437\n",
            "6 0.049752119247166215\n",
            "7 0.04952579514486047\n",
            "8 0.04930139624075603\n",
            "9 0.04907889909417873\n",
            "10 0.048858280631496824\n",
            "11 0.04863951813914655\n",
            "12 0.048422589256813815\n",
            "13 0.048207471970764366\n",
            "14 0.04799414460732379\n",
            "15 0.04778258582650063\n",
            "16 0.04757277461574744\n",
            "17 0.04736469028386162\n",
            "18 0.04715831245501613\n",
            "19 0.0469536210629228\n",
            "20 0.04675059634511885\n",
            "21 0.046549218837380946\n",
            "22 0.04634946936825538\n",
            "23 0.04615132905370947\n",
            "24 0.045954779291893934\n",
            "25 0.04575980175802011\n",
            "26 0.04556637839934399\n",
            "27 0.04537449143025772\n",
            "28 0.045184123327484324\n",
            "29 0.04499525682537377\n",
            "30 0.04480787491129875\n",
            "31 0.044621960821145445\n",
            "32 0.044437498034899416\n",
            "33 0.044254470272322925\n",
            "34 0.044072861488722886\n",
            "35 0.04389265587080473\n",
            "36 0.04371383783261348\n",
            "37 0.04353639201155739\n",
            "38 0.04336030326451358\n",
            "39 0.04318555666401226\n",
            "40 0.04301213749450053\n",
            "41 0.042840031248680646\n",
            "42 0.04266922362392292\n",
            "43 0.0424997005187513\n",
            "44 0.042331448029399164\n",
            "45 0.04216445244643545\n",
            "46 0.04199870025145626\n",
            "47 0.041834178113845884\n",
            "48 0.04167087288759805\n",
            "49 0.041508771608203474\n",
            "50 0.04134786148959892\n",
            "51 0.04118812992117368\n",
            "52 0.041029564464838304\n",
            "53 0.04087215285214886\n",
            "54 0.0407158829814875\n",
            "55 0.04056074291529957\n",
            "56 0.04040672087738249\n",
            "57 0.04025380525022833\n",
            "58 0.04010198457241748\n",
            "59 0.03995124753606328\n",
            "60 0.039801582984303696\n",
            "61 0.03965297990884474\n",
            "62 0.039505427447546426\n",
            "63 0.039358914882058636\n",
            "64 0.03921343163549928\n",
            "65 0.03906896727017832\n",
            "66 0.038925511485363565\n",
            "67 0.03878305411508894\n",
            "68 0.038641585126004296\n",
            "69 0.03850109461526517\n",
            "70 0.038361572808462543\n",
            "71 0.038223010057589935\n",
            "72 0.038085396839049865\n",
            "73 0.03794872375169622\n",
            "74 0.03781298151491379\n",
            "75 0.037678160966731225\n",
            "76 0.03754425306197192\n",
            "77 0.03741124887043482\n",
            "78 0.03727913957511266\n",
            "79 0.03714791647043929\n",
            "80 0.037017570960571136\n",
            "81 0.036888094557698356\n",
            "82 0.03675947888038751\n",
            "83 0.03663171565195367\n",
            "84 0.0365047966988619\n",
            "85 0.03637871394915775\n",
            "86 0.03625345943092528\n",
            "87 0.03612902527077319\n",
            "88 0.03600540369234724\n",
            "89 0.03588258701486951\n",
            "90 0.035760567651704156\n",
            "91 0.03563933810894683\n",
            "92 0.035518890984040555\n",
            "93 0.035399218964415585\n",
            "94 0.03528031482615169\n",
            "95 0.03516217143266641\n",
            "96 0.03504478173342349\n",
            "97 0.034928138762666074\n",
            "98 0.03481223563816982\n",
            "99 0.03469706556001914\n",
            "100 0.03458262180940403\n",
            "101 0.034468897747437346\n",
            "102 0.03435588681399243\n",
            "103 0.03424358252656116\n",
            "104 0.034131978479131186\n",
            "105 0.034021068341081706\n",
            "106 0.03391084585609914\n",
            "107 0.03380130484111015\n",
            "108 0.033692439185233375\n",
            "109 0.033584242848748336\n",
            "110 0.03347670986208215\n",
            "111 0.033369834324813136\n",
            "112 0.03326361040469053\n",
            "113 0.033158032336671396\n",
            "114 0.03305309442197303\n",
            "115 0.03294879102714143\n",
            "116 0.03284511658313436\n",
            "117 0.03274206558442154\n",
            "118 0.032639632588096816\n",
            "119 0.032537812213007604\n",
            "120 0.03243659913889698\n",
            "121 0.03233598810556055\n",
            "122 0.03223597391201626\n",
            "123 0.03213655141568923\n",
            "124 0.03203771553160807\n",
            "125 0.031939461231615424\n",
            "126 0.03184178354359056\n",
            "127 0.031744677550685524\n",
            "128 0.0316481383905721\n",
            "129 0.03155216125470176\n",
            "130 0.03145674138757796\n",
            "131 0.03136187408603888\n",
            "132 0.03126755469855166\n",
            "133 0.031173778624519435\n",
            "134 0.03108054131359755\n",
            "135 0.030987838265021155\n",
            "136 0.03089566502694404\n",
            "137 0.03080401719578679\n",
            "138 0.030712890415596265\n",
            "139 0.03062228037741424\n",
            "140 0.030532182818656512\n",
            "141 0.030442593522500973\n",
            "142 0.03035350831728674\n",
            "143 0.03026492307591979\n",
            "144 0.030176833715291236\n",
            "145 0.030089236195702165\n",
            "146 0.030002126520297885\n",
            "147 0.029915500734511234\n",
            "148 0.02982935492551448\n",
            "149 0.02974368522167882\n",
            "150 0.02965848779204334\n",
            "151 0.029573758845790745\n",
            "152 0.029489494631732276\n",
            "153 0.029405691437799277\n",
            "154 0.02932234559054358\n",
            "155 0.029239453454644484\n",
            "156 0.02915701143242398\n",
            "157 0.029075015963368228\n",
            "158 0.02899346352365742\n",
            "159 0.028912350625701615\n",
            "160 0.028831673817684353\n",
            "161 0.02875142968311216\n",
            "162 0.028671614840371677\n",
            "163 0.028592225942292764\n",
            "164 0.02851325967571786\n",
            "165 0.02843471276107881\n",
            "166 0.02835658195197843\n",
            "167 0.028278864034779302\n",
            "168 0.028201555828198163\n",
            "169 0.028124654182906113\n",
            "170 0.028048155981135255\n",
            "171 0.02797205813628984\n",
            "172 0.027896357592565042\n",
            "173 0.027821051324569003\n",
            "174 0.027746136336951843\n",
            "175 0.02767160966403972\n",
            "176 0.027597468369473552\n",
            "177 0.027523709545853904\n",
            "178 0.027450330314390155\n",
            "179 0.02737732782455519\n",
            "180 0.027304699253744683\n",
            "181 0.027232441806941093\n",
            "182 0.027160552716383277\n",
            "183 0.027089029241239744\n",
            "184 0.027017868667287327\n",
            "185 0.02694706830659359\n",
            "186 0.02687662549720459\n",
            "187 0.026806537602836637\n",
            "188 0.026736802012571996\n",
            "189 0.026667416140559397\n",
            "190 0.026598377425718713\n",
            "191 0.026529683331449228\n",
            "192 0.026461331345342388\n",
            "193 0.026393318978898673\n",
            "194 0.026325643767248035\n",
            "195 0.02625830326887401\n",
            "196 0.02619129506534251\n",
            "197 0.026124616761033465\n",
            "198 0.02605826598287648\n",
            "199 0.025992240380090265\n",
            "200 0.025926537623925026\n",
            "201 0.025861155407409454\n",
            "202 0.025796091445100033\n",
            "203 0.025731343472834362\n",
            "204 0.025666909247487754\n",
            "205 0.025602786546733085\n",
            "206 0.025538973168803568\n",
            "207 0.025475466932259386\n",
            "208 0.025412265675756978\n",
            "209 0.02534936725782149\n",
            "210 0.025286769556622186\n",
            "211 0.02522447046975139\n",
            "212 0.025162467914005508\n",
            "213 0.025100759825169794\n",
            "214 0.025039344157805347\n",
            "215 0.024978218885039316\n",
            "216 0.02491738199835796\n",
            "217 0.024856831507401627\n",
            "218 0.024796565439763874\n",
            "219 0.024736581840791607\n",
            "220 0.024676878773389286\n",
            "221 0.024617454317824725\n",
            "222 0.024558306571537396\n",
            "223 0.02449943364895024\n",
            "224 0.024440833681283004\n",
            "225 0.024382504816368153\n",
            "226 0.024324445218469173\n",
            "227 0.02426665306810165\n",
            "228 0.024209126561856323\n",
            "229 0.024151863912224132\n",
            "230 0.024094863347424042\n",
            "231 0.02403812311123247\n",
            "232 0.023981641462816165\n",
            "233 0.0239254166765653\n",
            "234 0.02386944704193033\n",
            "235 0.02381373086325997\n",
            "236 0.02375826645964218\n",
            "237 0.023703052164745914\n",
            "238 0.02364808632666557\n",
            "239 0.023593367307767996\n",
            "240 0.02353889348453997\n",
            "241 0.023484663247439034\n",
            "242 0.02343067500074545\n",
            "243 0.023376927162415732\n",
            "244 0.02332341816393901\n",
            "245 0.023270146450194235\n",
            "246 0.023217110479309827\n",
            "247 0.023164308722524125\n",
            "248 0.023111739664049027\n",
            "249 0.023059401800934222\n",
            "250 0.023007293642933115\n",
            "251 0.022955413712370823\n",
            "252 0.022903760544013833\n",
            "253 0.02285233268494085\n",
            "254 0.022801128694415827\n",
            "255 0.022750147143761505\n",
            "256 0.022699386616235766\n",
            "257 0.02264884570690888\n",
            "258 0.02259852302254178\n",
            "259 0.022548417181467068\n",
            "260 0.022498526813469897\n",
            "261 0.022448850559671586\n",
            "262 0.022399387072414338\n",
            "263 0.022350135015146405\n",
            "264 0.022301093062310224\n",
            "265 0.022252259899230718\n",
            "266 0.022203634222005164\n",
            "267 0.022155214737394707\n",
            "268 0.022107000162716894\n",
            "269 0.02205898922573974\n",
            "270 0.02201118066457656\n",
            "271 0.021963573227582515\n",
            "272 0.02191616567325241\n",
            "273 0.021868956770119456\n",
            "274 0.021821945296654797\n",
            "275 0.02177513004116986\n",
            "276 0.021728509801717512\n",
            "277 0.021682083385996493\n",
            "278 0.021635849611255385\n",
            "279 0.02158980730419885\n",
            "280 0.021543955300894674\n",
            "281 0.02149829244668111\n",
            "282 0.021452817596076156\n",
            "283 0.021407529612688096\n",
            "284 0.02136242736912601\n",
            "285 0.02131750974691229\n",
            "286 0.021272775636395617\n",
            "287 0.021228223936665683\n",
            "288 0.02118385355546744\n",
            "289 0.02113966340911801\n",
            "290 0.021095652422423672\n",
            "291 0.021051819528597623\n",
            "292 0.021008163669179035\n",
            "293 0.020964683793953418\n",
            "294 0.020921378860873058\n",
            "295 0.020878247835978754\n",
            "296 0.020835289693322406\n",
            "297 0.020792503414891007\n",
            "298 0.02074988799053023\n",
            "299 0.020707442417870484\n"
          ]
        }
      ]
    },
    {
      "cell_type": "code",
      "source": [
        "ypred"
      ],
      "metadata": {
        "colab": {
          "base_uri": "https://localhost:8080/"
        },
        "id": "HLd6gZ8FRY9N",
        "outputId": "12c52fe4-6f1f-46f9-c38a-73770d17e49f"
      },
      "execution_count": 627,
      "outputs": [
        {
          "output_type": "execute_result",
          "data": {
            "text/plain": [
              "[Value(data=1.8773309429683607),\n",
              " Value(data=-0.9914126591978724),\n",
              " Value(data=-1.925260435893785)]"
            ]
          },
          "metadata": {},
          "execution_count": 627
        }
      ]
    }
  ]
}