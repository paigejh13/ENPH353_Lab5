{
  "nbformat": 4,
  "nbformat_minor": 0,
  "metadata": {
    "colab": {
      "provenance": [],
      "authorship_tag": "ABX9TyN+vnc5VaF/7SpyVUFy9dGA",
      "include_colab_link": true
    },
    "kernelspec": {
      "name": "python3",
      "display_name": "Python 3"
    },
    "language_info": {
      "name": "python"
    }
  },
  "cells": [
    {
      "cell_type": "markdown",
      "metadata": {
        "id": "view-in-github",
        "colab_type": "text"
      },
      "source": [
        "<a href=\"https://colab.research.google.com/github/paigejh13/ENPH353_Lab5/blob/main/ENPH353_Lab5.ipynb\" target=\"_parent\"><img src=\"https://colab.research.google.com/assets/colab-badge.svg\" alt=\"Open In Colab\"/></a>"
      ]
    },
    {
      "cell_type": "code",
      "execution_count": 105,
      "metadata": {
        "id": "aHwEmWDsJ6eC"
      },
      "outputs": [],
      "source": [
        "import math\n",
        "import numpy as np\n",
        "import matplotlib.pyplot as plt\n",
        "%matplotlib inline"
      ]
    },
    {
      "cell_type": "code",
      "source": [
        "## This code block  is used to draw dot graphs for visualization purposes\n",
        "# functions include trace() and draw_dot()\n",
        "#\n",
        "\n",
        "from graphviz import Digraph\n",
        "\n",
        "## used to build connections between nodes in a graph using a recursive structure\n",
        "#  param root: the node you want to draw back from\n",
        "#  returns a set of nodes and a set of edges for the graph\n",
        "def trace(root):\n",
        "\n",
        "  nodes, edges = set(), set()\n",
        "  def build(v):\n",
        "    if v not in nodes:\n",
        "      nodes.add(v)\n",
        "      for child in v._prev:\n",
        "        edges.add((child, v))\n",
        "        build(child)\n",
        "  build(root)\n",
        "  return nodes, edges\n",
        "\n",
        "## used to draw a dot graph from a 'top' node. Each node is printed with a label\n",
        "# blank, data blank, and a grad blank\n",
        "#  param root: the node you want to draw back from\n",
        "#  returns a set of nodes and a set of edges for the graph\n",
        "def draw_dot(root):\n",
        "  dot = Digraph(format='svg', graph_attr={'rankdir': 'LR'})\n",
        "\n",
        "  nodes, edges = trace(root)\n",
        "  for n in nodes:\n",
        "    uid = str(id(n))\n",
        "\n",
        "\n",
        "    dot.node(name=uid, label=\"{%s | data %.4f |grad %.4f}\" % (n.label, n.data, n.grad), shape= 'record')\n",
        "    if n._op:\n",
        "      dot.node(name=uid + n._op, label=n._op)\n",
        "      dot.edge(uid + n._op,uid)\n",
        "\n",
        "  for n1, n2 in edges:\n",
        "    n1_name = str(id(n1))\n",
        "    n2_name = str(id(n2))\n",
        "    dot.edge(str(id(n1)), str(id(n2)) + n2._op)\n",
        "  return dot\n",
        "\n"
      ],
      "metadata": {
        "id": "3c4SYoHbSWlI"
      },
      "execution_count": 106,
      "outputs": []
    },
    {
      "cell_type": "code",
      "source": [
        "## Class to define the structure of a node. All neurons/nodes in the eventual neural\n",
        "#  network will be impletemented as Values under the hood.\n",
        "#\n",
        "#  Each Value instannce has a numerical value, set of children, backward\n",
        "#  propogation function, gradient, label, and operation tag allowing us to also\n",
        "#  create nodes for operations in a dot graph of the neural network\n",
        "#  More details.\n",
        "\n",
        "class Value:\n",
        "\n",
        "  ## Constructor\n",
        "  #  param data: the numerical value of the instance\n",
        "  #  param children: list of child values (if applicable)\n",
        "  #  param op: operation tag\n",
        "  #  param label: Value label\n",
        "  #\n",
        "  #  creates new instance of the Value class\n",
        "\n",
        "  def __init__(self, data, _children=(), _op='', label=''):\n",
        "    self.data = data\n",
        "    self._backward = lambda: None\n",
        "    self._prev = set(_children)\n",
        "    self._op = _op\n",
        "    self.label = label\n",
        "    self.grad = 0\n",
        "\n",
        "  ## Overwrites pythons built in __repr__ function so when called, a Value instance\n",
        "  #  only prints it numerical value to the terminal\n",
        "  def __repr__(self):\n",
        "    return f\"Value(data={self.data})\"\n",
        "\n",
        "  ## Overwrites pythons built in __add__ function to allow the operation of adding\n",
        "  #  one instance of the Value class to be added to an int/float or another Value\n",
        "  #  instance\n",
        "  def __add__(self, other):\n",
        "    other = other if isinstance(other, Value) else Value(other)\n",
        "    out = Value(self.data + other.data, (self, other), '+')\n",
        "\n",
        "    ## Defines the local partial derivative for addition operation and chains\n",
        "    # that to the up stream/global derivative\n",
        "    def _backward():\n",
        "      self.grad += 1.0 * out.grad\n",
        "      other.grad += 1.0 *out.grad\n",
        "    out._backward = _backward\n",
        "\n",
        "    return out\n",
        "\n",
        "  ## Overwrites pythons built in __mul__ function to allow the operation of multipling\n",
        "  #  one instance of the Value class to be multiplied with an int/float or another Value\n",
        "  #  instance\n",
        "  def __mul__(self, other):\n",
        "    other = other if isinstance(other, Value) else Value(other)\n",
        "    out = Value(self.data * other.data, (self, other), '*')\n",
        "\n",
        "    ## Defines the local partial derivative for multipliction operation and chains\n",
        "    # that to the up stream/global derivative\n",
        "    def _backward():\n",
        "      self.grad += other.data * out.grad\n",
        "      other.grad += self.data *out.grad\n",
        "    out._backward = _backward\n",
        "\n",
        "    return out\n",
        "\n",
        "  ## Overwrites pythons built in __pow__ function to allow the operation of raising\n",
        "  #  one instance of the Value class to the power an int/float\n",
        "  def __pow__(self, other):\n",
        "    assert isinstance(other, (int, float))\n",
        "    out = Value(self.data**other, (self, ), f'**{other}')\n",
        "\n",
        "    ## Defines the local partial derivative for exponent operation and chains\n",
        "    # that to the up stream/global derivative\n",
        "    def _backward():\n",
        "      self.grad  += other*self.data**(other-1) * out.grad\n",
        "    out._backward = _backward\n",
        "\n",
        "    return out\n",
        "\n",
        "  ## Overwrites pythons built in __truediv__ function to allow the operation of\n",
        "  #  division of one instance of the Value class by an int/float or\n",
        "  #  another Value instance\n",
        "  def __truediv__(self, other):\n",
        "    return self * other**-1\n",
        "\n",
        "  ## Overwrites pythons built in __neg__ function to allow the operation of\n",
        "  #  multiplying an instance of the value class by -1\n",
        "  def __neg__(self):\n",
        "    return self * -1\n",
        "\n",
        "  ## Overwrites pythons built in __sub__ function to allow the operation of\n",
        "  #  subtraction of one instance of the Value class from an int/float or\n",
        "  #  another Value instance\n",
        "  def __sub__(self, other):\n",
        "    return self + (-other)\n",
        "\n",
        "  ## Ensures that it does not matter which parameter in the mathematical operation\n",
        "  #  functions is passed as an int/float (if any)\n",
        "  def __rmul__(self, other):\n",
        "    return self*other\n",
        "\n",
        "  ## defines the tanh() for an instance of the Value class\n",
        "  def tanh(self):\n",
        "    n = self.data\n",
        "    t = (math.exp(2*n)-1)/(math.exp(2*n)+1)\n",
        "    out = Value(t, (self, ), 'tanh')\n",
        "\n",
        "    ## Defines the local partial derivative for addition operation and chains\n",
        "    # that to the up stream/global derivative\n",
        "    def _backward():\n",
        "      self.grad  += (1-t**2)*out.grad\n",
        "    out._backward = _backward\n",
        "\n",
        "    return out\n",
        "\n",
        "  ## defines the 2*tanh() for an instance of the Value class\n",
        "  def two_tanh(self):\n",
        "    n = self.tanh()*2\n",
        "    n.grad = n.grad*2\n",
        "    return n\n",
        "\n",
        "  ## Overwrites pythons built in exp() function to allow the operation of raising\n",
        "  #  e to the power of an instance of the Value class\n",
        "  def exp(self):\n",
        "    x = self.data\n",
        "    out = Value(math.exp(x), (self, ), 'exp')\n",
        "\n",
        "    ## Defines the local partial derivative for addition operation and chains\n",
        "    # that to the up stream/global derivative\n",
        "    def _backward():\n",
        "      self.grad  += out.data * out.grad\n",
        "    out._backward = _backward\n",
        "\n",
        "    return out\n",
        "\n",
        "  ## Defines the back propogation alogorithm for some network of Value instances\n",
        "  #  starting with the node the function is called on and working backward\n",
        "  def backward(self):\n",
        "    topo = []\n",
        "    visited = set()\n",
        "\n",
        "    ## Defines a functions to builds a topological graph structure from the\n",
        "    #  network of Value instances\n",
        "    def build_topo(v):\n",
        "      a = 1\n",
        "      if v not in visited:\n",
        "        visited.add(v)\n",
        "        for child in v._prev:\n",
        "          build_topo(child)\n",
        "        topo.append(v)\n",
        "    build_topo(self)\n",
        "\n",
        "    self.grad = 1.0\n",
        "    for node in reversed(topo):\n",
        "      node._backward()\n",
        "\n"
      ],
      "metadata": {
        "id": "FXoo6n09OKCF"
      },
      "execution_count": 107,
      "outputs": []
    },
    {
      "cell_type": "code",
      "source": [
        "#manualy populate the layers, and perform 1 backward pass using the\n",
        "# tanh() function in the Value class as an activiation function\n",
        "\n",
        "x1 = Value(2.0, label='x1')\n",
        "w1 = Value(-3.0, label='w1')\n",
        "x2 = Value(0.0, label='x2')\n",
        "w2 = Value(1.0 , label='w2')\n",
        "b = Value(6.88137, label='b')\n",
        "\n",
        "x1w1 = x1*w1; x1w1.label = \"x1w1\"\n",
        "x2w2 = x2*w2; x2w2.label = \"x2w2\"\n",
        "x1w1x2w2 = x1w1+x2w2; x1w1x2w2.label = \"x1w1x2w2\"\n",
        "\n",
        "n = x1w1x2w2 + b; n.label='n'\n",
        "o = n.tanh(); o.label='o'\n",
        "\n",
        "o.backward()"
      ],
      "metadata": {
        "id": "Xd0IU8pkv-BS"
      },
      "execution_count": 108,
      "outputs": []
    },
    {
      "cell_type": "code",
      "source": [
        "draw_dot(o)"
      ],
      "metadata": {
        "colab": {
          "base_uri": "https://localhost:8080/",
          "height": 321
        },
        "id": "KorIULamvkqr",
        "outputId": "bdd99c83-3e1d-4cbc-84bc-12ba92d6aac5"
      },
      "execution_count": 109,
      "outputs": [
        {
          "output_type": "execute_result",
          "data": {
            "image/svg+xml": "<?xml version=\"1.0\" encoding=\"UTF-8\" standalone=\"no\"?>\n<!DOCTYPE svg PUBLIC \"-//W3C//DTD SVG 1.1//EN\"\n \"http://www.w3.org/Graphics/SVG/1.1/DTD/svg11.dtd\">\n<!-- Generated by graphviz version 2.43.0 (0)\n -->\n<!-- Title: %3 Pages: 1 -->\n<svg width=\"1540pt\" height=\"210pt\"\n viewBox=\"0.00 0.00 1540.00 210.00\" xmlns=\"http://www.w3.org/2000/svg\" xmlns:xlink=\"http://www.w3.org/1999/xlink\">\n<g id=\"graph0\" class=\"graph\" transform=\"scale(1 1) rotate(0) translate(4 206)\">\n<title>%3</title>\n<polygon fill=\"white\" stroke=\"transparent\" points=\"-4,4 -4,-206 1536,-206 1536,4 -4,4\"/>\n<!-- 134373454102592 -->\n<g id=\"node1\" class=\"node\">\n<title>134373454102592</title>\n<polygon fill=\"none\" stroke=\"black\" points=\"2,-165.5 2,-201.5 198,-201.5 198,-165.5 2,-165.5\"/>\n<text text-anchor=\"middle\" x=\"17\" y=\"-179.8\" font-family=\"Times,serif\" font-size=\"14.00\">x1</text>\n<polyline fill=\"none\" stroke=\"black\" points=\"32,-165.5 32,-201.5 \"/>\n<text text-anchor=\"middle\" x=\"72\" y=\"-179.8\" font-family=\"Times,serif\" font-size=\"14.00\">data 2.0000</text>\n<polyline fill=\"none\" stroke=\"black\" points=\"112,-165.5 112,-201.5 \"/>\n<text text-anchor=\"middle\" x=\"155\" y=\"-179.8\" font-family=\"Times,serif\" font-size=\"14.00\">grad &#45;1.5000</text>\n</g>\n<!-- 134373439815488* -->\n<g id=\"node12\" class=\"node\">\n<title>134373439815488*</title>\n<ellipse fill=\"none\" stroke=\"black\" cx=\"263\" cy=\"-128.5\" rx=\"27\" ry=\"18\"/>\n<text text-anchor=\"middle\" x=\"263\" y=\"-124.8\" font-family=\"Times,serif\" font-size=\"14.00\">*</text>\n</g>\n<!-- 134373454102592&#45;&gt;134373439815488* -->\n<g id=\"edge7\" class=\"edge\">\n<title>134373454102592&#45;&gt;134373439815488*</title>\n<path fill=\"none\" stroke=\"black\" d=\"M172.53,-165.44C181.84,-162.67 191.2,-159.67 200,-156.5 210.53,-152.71 221.75,-147.9 231.72,-143.33\"/>\n<polygon fill=\"black\" stroke=\"black\" points=\"233.25,-146.48 240.82,-139.07 230.28,-140.14 233.25,-146.48\"/>\n</g>\n<!-- 134373454114928 -->\n<g id=\"node2\" class=\"node\">\n<title>134373454114928</title>\n<polygon fill=\"none\" stroke=\"black\" points=\"0,-110.5 0,-146.5 200,-146.5 200,-110.5 0,-110.5\"/>\n<text text-anchor=\"middle\" x=\"16.5\" y=\"-124.8\" font-family=\"Times,serif\" font-size=\"14.00\">w1</text>\n<polyline fill=\"none\" stroke=\"black\" points=\"33,-110.5 33,-146.5 \"/>\n<text text-anchor=\"middle\" x=\"75.5\" y=\"-124.8\" font-family=\"Times,serif\" font-size=\"14.00\">data &#45;3.0000</text>\n<polyline fill=\"none\" stroke=\"black\" points=\"118,-110.5 118,-146.5 \"/>\n<text text-anchor=\"middle\" x=\"159\" y=\"-124.8\" font-family=\"Times,serif\" font-size=\"14.00\">grad 1.0000</text>\n</g>\n<!-- 134373454114928&#45;&gt;134373439815488* -->\n<g id=\"edge12\" class=\"edge\">\n<title>134373454114928&#45;&gt;134373439815488*</title>\n<path fill=\"none\" stroke=\"black\" d=\"M200.21,-128.5C209.2,-128.5 217.86,-128.5 225.7,-128.5\"/>\n<polygon fill=\"black\" stroke=\"black\" points=\"225.85,-132 235.85,-128.5 225.85,-125 225.85,-132\"/>\n</g>\n<!-- 134373439804544 -->\n<g id=\"node3\" class=\"node\">\n<title>134373439804544</title>\n<polygon fill=\"none\" stroke=\"black\" points=\"1036,-54.5 1036,-90.5 1221,-90.5 1221,-54.5 1036,-54.5\"/>\n<text text-anchor=\"middle\" x=\"1047.5\" y=\"-68.8\" font-family=\"Times,serif\" font-size=\"14.00\">n</text>\n<polyline fill=\"none\" stroke=\"black\" points=\"1059,-54.5 1059,-90.5 \"/>\n<text text-anchor=\"middle\" x=\"1099\" y=\"-68.8\" font-family=\"Times,serif\" font-size=\"14.00\">data 0.8814</text>\n<polyline fill=\"none\" stroke=\"black\" points=\"1139,-54.5 1139,-90.5 \"/>\n<text text-anchor=\"middle\" x=\"1180\" y=\"-68.8\" font-family=\"Times,serif\" font-size=\"14.00\">grad 0.5000</text>\n</g>\n<!-- 134373439813328tanh -->\n<g id=\"node8\" class=\"node\">\n<title>134373439813328tanh</title>\n<ellipse fill=\"none\" stroke=\"black\" cx=\"1284\" cy=\"-72.5\" rx=\"27\" ry=\"18\"/>\n<text text-anchor=\"middle\" x=\"1284\" y=\"-68.8\" font-family=\"Times,serif\" font-size=\"14.00\">tanh</text>\n</g>\n<!-- 134373439804544&#45;&gt;134373439813328tanh -->\n<g id=\"edge14\" class=\"edge\">\n<title>134373439804544&#45;&gt;134373439813328tanh</title>\n<path fill=\"none\" stroke=\"black\" d=\"M1221.01,-72.5C1230.01,-72.5 1238.74,-72.5 1246.66,-72.5\"/>\n<polygon fill=\"black\" stroke=\"black\" points=\"1246.91,-76 1256.91,-72.5 1246.91,-69 1246.91,-76\"/>\n</g>\n<!-- 134373439804544+ -->\n<g id=\"node4\" class=\"node\">\n<title>134373439804544+</title>\n<ellipse fill=\"none\" stroke=\"black\" cx=\"973\" cy=\"-72.5\" rx=\"27\" ry=\"18\"/>\n<text text-anchor=\"middle\" x=\"973\" y=\"-68.8\" font-family=\"Times,serif\" font-size=\"14.00\">+</text>\n</g>\n<!-- 134373439804544+&#45;&gt;134373439804544 -->\n<g id=\"edge1\" class=\"edge\">\n<title>134373439804544+&#45;&gt;134373439804544</title>\n<path fill=\"none\" stroke=\"black\" d=\"M1000.04,-72.5C1007.58,-72.5 1016.3,-72.5 1025.57,-72.5\"/>\n<polygon fill=\"black\" stroke=\"black\" points=\"1025.81,-76 1035.81,-72.5 1025.81,-69 1025.81,-76\"/>\n</g>\n<!-- 134373454103168 -->\n<g id=\"node5\" class=\"node\">\n<title>134373454103168</title>\n<polygon fill=\"none\" stroke=\"black\" points=\"695.5,-27.5 695.5,-63.5 880.5,-63.5 880.5,-27.5 695.5,-27.5\"/>\n<text text-anchor=\"middle\" x=\"707\" y=\"-41.8\" font-family=\"Times,serif\" font-size=\"14.00\">b</text>\n<polyline fill=\"none\" stroke=\"black\" points=\"718.5,-27.5 718.5,-63.5 \"/>\n<text text-anchor=\"middle\" x=\"758.5\" y=\"-41.8\" font-family=\"Times,serif\" font-size=\"14.00\">data 6.8814</text>\n<polyline fill=\"none\" stroke=\"black\" points=\"798.5,-27.5 798.5,-63.5 \"/>\n<text text-anchor=\"middle\" x=\"839.5\" y=\"-41.8\" font-family=\"Times,serif\" font-size=\"14.00\">grad 0.5000</text>\n</g>\n<!-- 134373454103168&#45;&gt;134373439804544+ -->\n<g id=\"edge9\" class=\"edge\">\n<title>134373454103168&#45;&gt;134373439804544+</title>\n<path fill=\"none\" stroke=\"black\" d=\"M880.77,-59.04C900.52,-61.95 920.26,-64.87 936.29,-67.23\"/>\n<polygon fill=\"black\" stroke=\"black\" points=\"935.86,-70.71 946.26,-68.7 936.88,-63.78 935.86,-70.71\"/>\n</g>\n<!-- 134373454102688 -->\n<g id=\"node6\" class=\"node\">\n<title>134373454102688</title>\n<polygon fill=\"none\" stroke=\"black\" points=\"4,-55.5 4,-91.5 196,-91.5 196,-55.5 4,-55.5\"/>\n<text text-anchor=\"middle\" x=\"19\" y=\"-69.8\" font-family=\"Times,serif\" font-size=\"14.00\">x2</text>\n<polyline fill=\"none\" stroke=\"black\" points=\"34,-55.5 34,-91.5 \"/>\n<text text-anchor=\"middle\" x=\"74\" y=\"-69.8\" font-family=\"Times,serif\" font-size=\"14.00\">data 0.0000</text>\n<polyline fill=\"none\" stroke=\"black\" points=\"114,-55.5 114,-91.5 \"/>\n<text text-anchor=\"middle\" x=\"155\" y=\"-69.8\" font-family=\"Times,serif\" font-size=\"14.00\">grad 0.5000</text>\n</g>\n<!-- 134373439807184* -->\n<g id=\"node10\" class=\"node\">\n<title>134373439807184*</title>\n<ellipse fill=\"none\" stroke=\"black\" cx=\"263\" cy=\"-73.5\" rx=\"27\" ry=\"18\"/>\n<text text-anchor=\"middle\" x=\"263\" y=\"-69.8\" font-family=\"Times,serif\" font-size=\"14.00\">*</text>\n</g>\n<!-- 134373454102688&#45;&gt;134373439807184* -->\n<g id=\"edge6\" class=\"edge\">\n<title>134373454102688&#45;&gt;134373439807184*</title>\n<path fill=\"none\" stroke=\"black\" d=\"M196.05,-73.5C206.52,-73.5 216.65,-73.5 225.71,-73.5\"/>\n<polygon fill=\"black\" stroke=\"black\" points=\"225.79,-77 235.79,-73.5 225.79,-70 225.79,-77\"/>\n</g>\n<!-- 134373439813328 -->\n<g id=\"node7\" class=\"node\">\n<title>134373439813328</title>\n<polygon fill=\"none\" stroke=\"black\" points=\"1347,-54.5 1347,-90.5 1532,-90.5 1532,-54.5 1347,-54.5\"/>\n<text text-anchor=\"middle\" x=\"1358.5\" y=\"-68.8\" font-family=\"Times,serif\" font-size=\"14.00\">o</text>\n<polyline fill=\"none\" stroke=\"black\" points=\"1370,-54.5 1370,-90.5 \"/>\n<text text-anchor=\"middle\" x=\"1410\" y=\"-68.8\" font-family=\"Times,serif\" font-size=\"14.00\">data 0.7071</text>\n<polyline fill=\"none\" stroke=\"black\" points=\"1450,-54.5 1450,-90.5 \"/>\n<text text-anchor=\"middle\" x=\"1491\" y=\"-68.8\" font-family=\"Times,serif\" font-size=\"14.00\">grad 1.0000</text>\n</g>\n<!-- 134373439813328tanh&#45;&gt;134373439813328 -->\n<g id=\"edge2\" class=\"edge\">\n<title>134373439813328tanh&#45;&gt;134373439813328</title>\n<path fill=\"none\" stroke=\"black\" d=\"M1311.04,-72.5C1318.58,-72.5 1327.3,-72.5 1336.57,-72.5\"/>\n<polygon fill=\"black\" stroke=\"black\" points=\"1336.81,-76 1346.81,-72.5 1336.81,-69 1336.81,-76\"/>\n</g>\n<!-- 134373439807184 -->\n<g id=\"node9\" class=\"node\">\n<title>134373439807184</title>\n<polygon fill=\"none\" stroke=\"black\" points=\"328.5,-55.5 328.5,-91.5 537.5,-91.5 537.5,-55.5 328.5,-55.5\"/>\n<text text-anchor=\"middle\" x=\"352\" y=\"-69.8\" font-family=\"Times,serif\" font-size=\"14.00\">x2w2</text>\n<polyline fill=\"none\" stroke=\"black\" points=\"375.5,-55.5 375.5,-91.5 \"/>\n<text text-anchor=\"middle\" x=\"415.5\" y=\"-69.8\" font-family=\"Times,serif\" font-size=\"14.00\">data 0.0000</text>\n<polyline fill=\"none\" stroke=\"black\" points=\"455.5,-55.5 455.5,-91.5 \"/>\n<text text-anchor=\"middle\" x=\"496.5\" y=\"-69.8\" font-family=\"Times,serif\" font-size=\"14.00\">grad 0.5000</text>\n</g>\n<!-- 134373439815584+ -->\n<g id=\"node14\" class=\"node\">\n<title>134373439815584+</title>\n<ellipse fill=\"none\" stroke=\"black\" cx=\"603\" cy=\"-100.5\" rx=\"27\" ry=\"18\"/>\n<text text-anchor=\"middle\" x=\"603\" y=\"-96.8\" font-family=\"Times,serif\" font-size=\"14.00\">+</text>\n</g>\n<!-- 134373439807184&#45;&gt;134373439815584+ -->\n<g id=\"edge11\" class=\"edge\">\n<title>134373439807184&#45;&gt;134373439815584+</title>\n<path fill=\"none\" stroke=\"black\" d=\"M537.53,-90.14C547.8,-91.79 557.66,-93.37 566.45,-94.79\"/>\n<polygon fill=\"black\" stroke=\"black\" points=\"566.16,-98.28 576.59,-96.42 567.27,-91.37 566.16,-98.28\"/>\n</g>\n<!-- 134373439807184*&#45;&gt;134373439807184 -->\n<g id=\"edge3\" class=\"edge\">\n<title>134373439807184*&#45;&gt;134373439807184</title>\n<path fill=\"none\" stroke=\"black\" d=\"M290.25,-73.5C298.43,-73.5 308.03,-73.5 318.31,-73.5\"/>\n<polygon fill=\"black\" stroke=\"black\" points=\"318.35,-77 328.35,-73.5 318.35,-70 318.35,-77\"/>\n</g>\n<!-- 134373439815488 -->\n<g id=\"node11\" class=\"node\">\n<title>134373439815488</title>\n<polygon fill=\"none\" stroke=\"black\" points=\"326,-110.5 326,-146.5 540,-146.5 540,-110.5 326,-110.5\"/>\n<text text-anchor=\"middle\" x=\"349.5\" y=\"-124.8\" font-family=\"Times,serif\" font-size=\"14.00\">x1w1</text>\n<polyline fill=\"none\" stroke=\"black\" points=\"373,-110.5 373,-146.5 \"/>\n<text text-anchor=\"middle\" x=\"415.5\" y=\"-124.8\" font-family=\"Times,serif\" font-size=\"14.00\">data &#45;6.0000</text>\n<polyline fill=\"none\" stroke=\"black\" points=\"458,-110.5 458,-146.5 \"/>\n<text text-anchor=\"middle\" x=\"499\" y=\"-124.8\" font-family=\"Times,serif\" font-size=\"14.00\">grad 0.5000</text>\n</g>\n<!-- 134373439815488&#45;&gt;134373439815584+ -->\n<g id=\"edge8\" class=\"edge\">\n<title>134373439815488&#45;&gt;134373439815584+</title>\n<path fill=\"none\" stroke=\"black\" d=\"M540.4,-110.77C549.72,-109.21 558.65,-107.72 566.68,-106.39\"/>\n<polygon fill=\"black\" stroke=\"black\" points=\"567.38,-109.82 576.66,-104.72 566.22,-102.91 567.38,-109.82\"/>\n</g>\n<!-- 134373439815488*&#45;&gt;134373439815488 -->\n<g id=\"edge4\" class=\"edge\">\n<title>134373439815488*&#45;&gt;134373439815488</title>\n<path fill=\"none\" stroke=\"black\" d=\"M290.25,-128.5C297.7,-128.5 306.34,-128.5 315.59,-128.5\"/>\n<polygon fill=\"black\" stroke=\"black\" points=\"315.84,-132 325.84,-128.5 315.84,-125 315.84,-132\"/>\n</g>\n<!-- 134373439815584 -->\n<g id=\"node13\" class=\"node\">\n<title>134373439815584</title>\n<polygon fill=\"none\" stroke=\"black\" points=\"666,-82.5 666,-118.5 910,-118.5 910,-82.5 666,-82.5\"/>\n<text text-anchor=\"middle\" x=\"704.5\" y=\"-96.8\" font-family=\"Times,serif\" font-size=\"14.00\">x1w1x2w2</text>\n<polyline fill=\"none\" stroke=\"black\" points=\"743,-82.5 743,-118.5 \"/>\n<text text-anchor=\"middle\" x=\"785.5\" y=\"-96.8\" font-family=\"Times,serif\" font-size=\"14.00\">data &#45;6.0000</text>\n<polyline fill=\"none\" stroke=\"black\" points=\"828,-82.5 828,-118.5 \"/>\n<text text-anchor=\"middle\" x=\"869\" y=\"-96.8\" font-family=\"Times,serif\" font-size=\"14.00\">grad 0.5000</text>\n</g>\n<!-- 134373439815584&#45;&gt;134373439804544+ -->\n<g id=\"edge10\" class=\"edge\">\n<title>134373439815584&#45;&gt;134373439804544+</title>\n<path fill=\"none\" stroke=\"black\" d=\"M906.71,-82.49C917.38,-80.86 927.53,-79.3 936.51,-77.93\"/>\n<polygon fill=\"black\" stroke=\"black\" points=\"937.13,-81.38 946.48,-76.4 936.07,-74.46 937.13,-81.38\"/>\n</g>\n<!-- 134373439815584+&#45;&gt;134373439815584 -->\n<g id=\"edge5\" class=\"edge\">\n<title>134373439815584+&#45;&gt;134373439815584</title>\n<path fill=\"none\" stroke=\"black\" d=\"M630.22,-100.5C637.7,-100.5 646.4,-100.5 655.79,-100.5\"/>\n<polygon fill=\"black\" stroke=\"black\" points=\"655.8,-104 665.8,-100.5 655.8,-97 655.8,-104\"/>\n</g>\n<!-- 134373454115744 -->\n<g id=\"node15\" class=\"node\">\n<title>134373454115744</title>\n<polygon fill=\"none\" stroke=\"black\" points=\"2.5,-0.5 2.5,-36.5 197.5,-36.5 197.5,-0.5 2.5,-0.5\"/>\n<text text-anchor=\"middle\" x=\"19\" y=\"-14.8\" font-family=\"Times,serif\" font-size=\"14.00\">w2</text>\n<polyline fill=\"none\" stroke=\"black\" points=\"35.5,-0.5 35.5,-36.5 \"/>\n<text text-anchor=\"middle\" x=\"75.5\" y=\"-14.8\" font-family=\"Times,serif\" font-size=\"14.00\">data 1.0000</text>\n<polyline fill=\"none\" stroke=\"black\" points=\"115.5,-0.5 115.5,-36.5 \"/>\n<text text-anchor=\"middle\" x=\"156.5\" y=\"-14.8\" font-family=\"Times,serif\" font-size=\"14.00\">grad 0.0000</text>\n</g>\n<!-- 134373454115744&#45;&gt;134373439807184* -->\n<g id=\"edge13\" class=\"edge\">\n<title>134373454115744&#45;&gt;134373439807184*</title>\n<path fill=\"none\" stroke=\"black\" d=\"M169.28,-36.5C179.65,-39.61 190.16,-42.98 200,-46.5 210.28,-50.17 221.28,-54.74 231.11,-59.07\"/>\n<polygon fill=\"black\" stroke=\"black\" points=\"229.93,-62.37 240.48,-63.27 232.79,-55.99 229.93,-62.37\"/>\n</g>\n</g>\n</svg>\n",
            "text/plain": [
              "<graphviz.graphs.Digraph at 0x7a3641fff9a0>"
            ]
          },
          "metadata": {},
          "execution_count": 109
        }
      ]
    },
    {
      "cell_type": "code",
      "source": [
        "#manualy populate the layers, and perform 1 backward pass, manually\n",
        "#implementing the tanh() function for the activiation function\n",
        "\n",
        "\n",
        "x1 = Value(2.0, label='x1')\n",
        "w1 = Value(-3.0, label='w1')\n",
        "x2 = Value(0.0, label='x2')\n",
        "w2 = Value(1.0 , label='w2')\n",
        "b = Value(6.88137, label='b')\n",
        "\n",
        "x1w1 = x1*w1; x1w1.label = \"x1w1\"\n",
        "x2w2 = x2*w2; x2w2.label = \"x2w2\"\n",
        "x1w1x2w2 = x1w1+x2w2; x1w1x2w2.label = \"x1w1x2w2\"\n",
        "\n",
        "n = x1w1x2w2 + b; n.label='n'\n",
        "\n",
        "e = (2*n).exp(); e.label='e'\n",
        "g = (e - 1)/(e + 1); g.label='g'\n",
        "\n",
        "g.label='o'\n",
        "\n",
        "g.backward()\n",
        "draw_dot(g)"
      ],
      "metadata": {
        "colab": {
          "base_uri": "https://localhost:8080/",
          "height": 321
        },
        "id": "Tnn9GAbO4rfx",
        "outputId": "626b2d56-2c09-4404-ba21-246e29cf3e0a"
      },
      "execution_count": 110,
      "outputs": [
        {
          "output_type": "execute_result",
          "data": {
            "image/svg+xml": "<?xml version=\"1.0\" encoding=\"UTF-8\" standalone=\"no\"?>\n<!DOCTYPE svg PUBLIC \"-//W3C//DTD SVG 1.1//EN\"\n \"http://www.w3.org/Graphics/SVG/1.1/DTD/svg11.dtd\">\n<!-- Generated by graphviz version 2.43.0 (0)\n -->\n<!-- Title: %3 Pages: 1 -->\n<svg width=\"2909pt\" height=\"210pt\"\n viewBox=\"0.00 0.00 2909.00 210.00\" xmlns=\"http://www.w3.org/2000/svg\" xmlns:xlink=\"http://www.w3.org/1999/xlink\">\n<g id=\"graph0\" class=\"graph\" transform=\"scale(1 1) rotate(0) translate(4 206)\">\n<title>%3</title>\n<polygon fill=\"white\" stroke=\"transparent\" points=\"-4,4 -4,-206 2905,-206 2905,4 -4,4\"/>\n<!-- 134373439804928 -->\n<g id=\"node1\" class=\"node\">\n<title>134373439804928</title>\n<polygon fill=\"none\" stroke=\"black\" points=\"1347,-81.5 1347,-117.5 1529,-117.5 1529,-81.5 1347,-81.5\"/>\n<text text-anchor=\"middle\" x=\"1357\" y=\"-95.8\" font-family=\"Times,serif\" font-size=\"14.00\"> </text>\n<polyline fill=\"none\" stroke=\"black\" points=\"1367,-81.5 1367,-117.5 \"/>\n<text text-anchor=\"middle\" x=\"1407\" y=\"-95.8\" font-family=\"Times,serif\" font-size=\"14.00\">data 1.7627</text>\n<polyline fill=\"none\" stroke=\"black\" points=\"1447,-81.5 1447,-117.5 \"/>\n<text text-anchor=\"middle\" x=\"1488\" y=\"-95.8\" font-family=\"Times,serif\" font-size=\"14.00\">grad 0.2500</text>\n</g>\n<!-- 134373439814336exp -->\n<g id=\"node13\" class=\"node\">\n<title>134373439814336exp</title>\n<ellipse fill=\"none\" stroke=\"black\" cx=\"1592\" cy=\"-99.5\" rx=\"27\" ry=\"18\"/>\n<text text-anchor=\"middle\" x=\"1592\" y=\"-95.8\" font-family=\"Times,serif\" font-size=\"14.00\">exp</text>\n</g>\n<!-- 134373439804928&#45;&gt;134373439814336exp -->\n<g id=\"edge17\" class=\"edge\">\n<title>134373439804928&#45;&gt;134373439814336exp</title>\n<path fill=\"none\" stroke=\"black\" d=\"M1529.18,-99.5C1538.14,-99.5 1546.83,-99.5 1554.73,-99.5\"/>\n<polygon fill=\"black\" stroke=\"black\" points=\"1554.96,-103 1564.96,-99.5 1554.96,-96 1554.96,-103\"/>\n</g>\n<!-- 134373439804928* -->\n<g id=\"node2\" class=\"node\">\n<title>134373439804928*</title>\n<ellipse fill=\"none\" stroke=\"black\" cx=\"1284\" cy=\"-99.5\" rx=\"27\" ry=\"18\"/>\n<text text-anchor=\"middle\" x=\"1284\" y=\"-95.8\" font-family=\"Times,serif\" font-size=\"14.00\">*</text>\n</g>\n<!-- 134373439804928*&#45;&gt;134373439804928 -->\n<g id=\"edge1\" class=\"edge\">\n<title>134373439804928*&#45;&gt;134373439804928</title>\n<path fill=\"none\" stroke=\"black\" d=\"M1311.13,-99.5C1318.67,-99.5 1327.39,-99.5 1336.64,-99.5\"/>\n<polygon fill=\"black\" stroke=\"black\" points=\"1336.87,-103 1346.87,-99.5 1336.87,-96 1336.87,-103\"/>\n</g>\n<!-- 134373439808528 -->\n<g id=\"node3\" class=\"node\">\n<title>134373439808528</title>\n<polygon fill=\"none\" stroke=\"black\" points=\"2,-165.5 2,-201.5 198,-201.5 198,-165.5 2,-165.5\"/>\n<text text-anchor=\"middle\" x=\"17\" y=\"-179.8\" font-family=\"Times,serif\" font-size=\"14.00\">x1</text>\n<polyline fill=\"none\" stroke=\"black\" points=\"32,-165.5 32,-201.5 \"/>\n<text text-anchor=\"middle\" x=\"72\" y=\"-179.8\" font-family=\"Times,serif\" font-size=\"14.00\">data 2.0000</text>\n<polyline fill=\"none\" stroke=\"black\" points=\"112,-165.5 112,-201.5 \"/>\n<text text-anchor=\"middle\" x=\"155\" y=\"-179.8\" font-family=\"Times,serif\" font-size=\"14.00\">grad &#45;1.5000</text>\n</g>\n<!-- 134373439806224* -->\n<g id=\"node18\" class=\"node\">\n<title>134373439806224*</title>\n<ellipse fill=\"none\" stroke=\"black\" cx=\"263\" cy=\"-128.5\" rx=\"27\" ry=\"18\"/>\n<text text-anchor=\"middle\" x=\"263\" y=\"-124.8\" font-family=\"Times,serif\" font-size=\"14.00\">*</text>\n</g>\n<!-- 134373439808528&#45;&gt;134373439806224* -->\n<g id=\"edge23\" class=\"edge\">\n<title>134373439808528&#45;&gt;134373439806224*</title>\n<path fill=\"none\" stroke=\"black\" d=\"M172.53,-165.44C181.84,-162.67 191.2,-159.67 200,-156.5 210.53,-152.71 221.75,-147.9 231.72,-143.33\"/>\n<polygon fill=\"black\" stroke=\"black\" points=\"233.25,-146.48 240.82,-139.07 230.28,-140.14 233.25,-146.48\"/>\n</g>\n<!-- 134373439807520 -->\n<g id=\"node4\" class=\"node\">\n<title>134373439807520</title>\n<polygon fill=\"none\" stroke=\"black\" points=\"1968,-53.5 1968,-89.5 2154,-89.5 2154,-53.5 1968,-53.5\"/>\n<text text-anchor=\"middle\" x=\"1978\" y=\"-67.8\" font-family=\"Times,serif\" font-size=\"14.00\"> </text>\n<polyline fill=\"none\" stroke=\"black\" points=\"1988,-53.5 1988,-89.5 \"/>\n<text text-anchor=\"middle\" x=\"2028\" y=\"-67.8\" font-family=\"Times,serif\" font-size=\"14.00\">data 6.8284</text>\n<polyline fill=\"none\" stroke=\"black\" points=\"2068,-53.5 2068,-89.5 \"/>\n<text text-anchor=\"middle\" x=\"2111\" y=\"-67.8\" font-family=\"Times,serif\" font-size=\"14.00\">grad &#45;0.1036</text>\n</g>\n<!-- 134373439802768**&#45;1 -->\n<g id=\"node27\" class=\"node\">\n<title>134373439802768**&#45;1</title>\n<ellipse fill=\"none\" stroke=\"black\" cx=\"2281\" cy=\"-71.5\" rx=\"27\" ry=\"18\"/>\n<text text-anchor=\"middle\" x=\"2281\" y=\"-67.8\" font-family=\"Times,serif\" font-size=\"14.00\">**&#45;1</text>\n</g>\n<!-- 134373439807520&#45;&gt;134373439802768**&#45;1 -->\n<g id=\"edge22\" class=\"edge\">\n<title>134373439807520&#45;&gt;134373439802768**&#45;1</title>\n<path fill=\"none\" stroke=\"black\" d=\"M2154.14,-71.5C2185.72,-71.5 2219.24,-71.5 2243.74,-71.5\"/>\n<polygon fill=\"black\" stroke=\"black\" points=\"2243.98,-75 2253.98,-71.5 2243.98,-68 2243.98,-75\"/>\n</g>\n<!-- 134373439807520+ -->\n<g id=\"node5\" class=\"node\">\n<title>134373439807520+</title>\n<ellipse fill=\"none\" stroke=\"black\" cx=\"1905\" cy=\"-71.5\" rx=\"27\" ry=\"18\"/>\n<text text-anchor=\"middle\" x=\"1905\" y=\"-67.8\" font-family=\"Times,serif\" font-size=\"14.00\">+</text>\n</g>\n<!-- 134373439807520+&#45;&gt;134373439807520 -->\n<g id=\"edge2\" class=\"edge\">\n<title>134373439807520+&#45;&gt;134373439807520</title>\n<path fill=\"none\" stroke=\"black\" d=\"M1932.12,-71.5C1939.62,-71.5 1948.29,-71.5 1957.5,-71.5\"/>\n<polygon fill=\"black\" stroke=\"black\" points=\"1957.69,-75 1967.69,-71.5 1957.69,-68 1957.69,-75\"/>\n</g>\n<!-- 134373449347664 -->\n<g id=\"node6\" class=\"node\">\n<title>134373449347664</title>\n<polygon fill=\"none\" stroke=\"black\" points=\"0,-110.5 0,-146.5 200,-146.5 200,-110.5 0,-110.5\"/>\n<text text-anchor=\"middle\" x=\"16.5\" y=\"-124.8\" font-family=\"Times,serif\" font-size=\"14.00\">w1</text>\n<polyline fill=\"none\" stroke=\"black\" points=\"33,-110.5 33,-146.5 \"/>\n<text text-anchor=\"middle\" x=\"75.5\" y=\"-124.8\" font-family=\"Times,serif\" font-size=\"14.00\">data &#45;3.0000</text>\n<polyline fill=\"none\" stroke=\"black\" points=\"118,-110.5 118,-146.5 \"/>\n<text text-anchor=\"middle\" x=\"159\" y=\"-124.8\" font-family=\"Times,serif\" font-size=\"14.00\">grad 1.0000</text>\n</g>\n<!-- 134373449347664&#45;&gt;134373439806224* -->\n<g id=\"edge16\" class=\"edge\">\n<title>134373449347664&#45;&gt;134373439806224*</title>\n<path fill=\"none\" stroke=\"black\" d=\"M200.21,-128.5C209.2,-128.5 217.86,-128.5 225.7,-128.5\"/>\n<polygon fill=\"black\" stroke=\"black\" points=\"225.85,-132 235.85,-128.5 225.85,-125 225.85,-132\"/>\n</g>\n<!-- 134373439802480 -->\n<g id=\"node7\" class=\"node\">\n<title>134373439802480</title>\n<polygon fill=\"none\" stroke=\"black\" points=\"666,-82.5 666,-118.5 910,-118.5 910,-82.5 666,-82.5\"/>\n<text text-anchor=\"middle\" x=\"704.5\" y=\"-96.8\" font-family=\"Times,serif\" font-size=\"14.00\">x1w1x2w2</text>\n<polyline fill=\"none\" stroke=\"black\" points=\"743,-82.5 743,-118.5 \"/>\n<text text-anchor=\"middle\" x=\"785.5\" y=\"-96.8\" font-family=\"Times,serif\" font-size=\"14.00\">data &#45;6.0000</text>\n<polyline fill=\"none\" stroke=\"black\" points=\"828,-82.5 828,-118.5 \"/>\n<text text-anchor=\"middle\" x=\"869\" y=\"-96.8\" font-family=\"Times,serif\" font-size=\"14.00\">grad 0.5000</text>\n</g>\n<!-- 134373439804736+ -->\n<g id=\"node20\" class=\"node\">\n<title>134373439804736+</title>\n<ellipse fill=\"none\" stroke=\"black\" cx=\"973\" cy=\"-72.5\" rx=\"27\" ry=\"18\"/>\n<text text-anchor=\"middle\" x=\"973\" y=\"-68.8\" font-family=\"Times,serif\" font-size=\"14.00\">+</text>\n</g>\n<!-- 134373439802480&#45;&gt;134373439804736+ -->\n<g id=\"edge11\" class=\"edge\">\n<title>134373439802480&#45;&gt;134373439804736+</title>\n<path fill=\"none\" stroke=\"black\" d=\"M906.71,-82.49C917.38,-80.86 927.53,-79.3 936.51,-77.93\"/>\n<polygon fill=\"black\" stroke=\"black\" points=\"937.13,-81.38 946.48,-76.4 936.07,-74.46 937.13,-81.38\"/>\n</g>\n<!-- 134373439802480+ -->\n<g id=\"node8\" class=\"node\">\n<title>134373439802480+</title>\n<ellipse fill=\"none\" stroke=\"black\" cx=\"603\" cy=\"-100.5\" rx=\"27\" ry=\"18\"/>\n<text text-anchor=\"middle\" x=\"603\" y=\"-96.8\" font-family=\"Times,serif\" font-size=\"14.00\">+</text>\n</g>\n<!-- 134373439802480+&#45;&gt;134373439802480 -->\n<g id=\"edge3\" class=\"edge\">\n<title>134373439802480+&#45;&gt;134373439802480</title>\n<path fill=\"none\" stroke=\"black\" d=\"M630.22,-100.5C637.7,-100.5 646.4,-100.5 655.79,-100.5\"/>\n<polygon fill=\"black\" stroke=\"black\" points=\"655.8,-104 665.8,-100.5 655.8,-97 655.8,-104\"/>\n</g>\n<!-- 134373439812224 -->\n<g id=\"node9\" class=\"node\">\n<title>134373439812224</title>\n<polygon fill=\"none\" stroke=\"black\" points=\"1037.5,-109.5 1037.5,-145.5 1219.5,-145.5 1219.5,-109.5 1037.5,-109.5\"/>\n<text text-anchor=\"middle\" x=\"1047.5\" y=\"-123.8\" font-family=\"Times,serif\" font-size=\"14.00\"> </text>\n<polyline fill=\"none\" stroke=\"black\" points=\"1057.5,-109.5 1057.5,-145.5 \"/>\n<text text-anchor=\"middle\" x=\"1097.5\" y=\"-123.8\" font-family=\"Times,serif\" font-size=\"14.00\">data 2.0000</text>\n<polyline fill=\"none\" stroke=\"black\" points=\"1137.5,-109.5 1137.5,-145.5 \"/>\n<text text-anchor=\"middle\" x=\"1178.5\" y=\"-123.8\" font-family=\"Times,serif\" font-size=\"14.00\">grad 0.2203</text>\n</g>\n<!-- 134373439812224&#45;&gt;134373439804928* -->\n<g id=\"edge19\" class=\"edge\">\n<title>134373439812224&#45;&gt;134373439804928*</title>\n<path fill=\"none\" stroke=\"black\" d=\"M1219.68,-111.05C1229.61,-109.24 1239.23,-107.48 1247.84,-105.91\"/>\n<polygon fill=\"black\" stroke=\"black\" points=\"1248.6,-109.33 1257.81,-104.09 1247.35,-102.45 1248.6,-109.33\"/>\n</g>\n<!-- 134373439807088 -->\n<g id=\"node10\" class=\"node\">\n<title>134373439807088</title>\n<polygon fill=\"none\" stroke=\"black\" points=\"2.5,-55.5 2.5,-91.5 197.5,-91.5 197.5,-55.5 2.5,-55.5\"/>\n<text text-anchor=\"middle\" x=\"19\" y=\"-69.8\" font-family=\"Times,serif\" font-size=\"14.00\">w2</text>\n<polyline fill=\"none\" stroke=\"black\" points=\"35.5,-55.5 35.5,-91.5 \"/>\n<text text-anchor=\"middle\" x=\"75.5\" y=\"-69.8\" font-family=\"Times,serif\" font-size=\"14.00\">data 1.0000</text>\n<polyline fill=\"none\" stroke=\"black\" points=\"115.5,-55.5 115.5,-91.5 \"/>\n<text text-anchor=\"middle\" x=\"156.5\" y=\"-69.8\" font-family=\"Times,serif\" font-size=\"14.00\">grad 0.0000</text>\n</g>\n<!-- 134373439803776* -->\n<g id=\"node25\" class=\"node\">\n<title>134373439803776*</title>\n<ellipse fill=\"none\" stroke=\"black\" cx=\"263\" cy=\"-73.5\" rx=\"27\" ry=\"18\"/>\n<text text-anchor=\"middle\" x=\"263\" y=\"-69.8\" font-family=\"Times,serif\" font-size=\"14.00\">*</text>\n</g>\n<!-- 134373439807088&#45;&gt;134373439803776* -->\n<g id=\"edge20\" class=\"edge\">\n<title>134373439807088&#45;&gt;134373439803776*</title>\n<path fill=\"none\" stroke=\"black\" d=\"M197.91,-73.5C207.65,-73.5 217.05,-73.5 225.52,-73.5\"/>\n<polygon fill=\"black\" stroke=\"black\" points=\"225.7,-77 235.7,-73.5 225.7,-70 225.7,-77\"/>\n</g>\n<!-- 134373449339504 -->\n<g id=\"node11\" class=\"node\">\n<title>134373449339504</title>\n<polygon fill=\"none\" stroke=\"black\" points=\"4,-0.5 4,-36.5 196,-36.5 196,-0.5 4,-0.5\"/>\n<text text-anchor=\"middle\" x=\"19\" y=\"-14.8\" font-family=\"Times,serif\" font-size=\"14.00\">x2</text>\n<polyline fill=\"none\" stroke=\"black\" points=\"34,-0.5 34,-36.5 \"/>\n<text text-anchor=\"middle\" x=\"74\" y=\"-14.8\" font-family=\"Times,serif\" font-size=\"14.00\">data 0.0000</text>\n<polyline fill=\"none\" stroke=\"black\" points=\"114,-0.5 114,-36.5 \"/>\n<text text-anchor=\"middle\" x=\"155\" y=\"-14.8\" font-family=\"Times,serif\" font-size=\"14.00\">grad 0.5000</text>\n</g>\n<!-- 134373449339504&#45;&gt;134373439803776* -->\n<g id=\"edge25\" class=\"edge\">\n<title>134373449339504&#45;&gt;134373439803776*</title>\n<path fill=\"none\" stroke=\"black\" d=\"M172.53,-36.56C181.84,-39.33 191.2,-42.33 200,-45.5 210.53,-49.29 221.75,-54.1 231.72,-58.67\"/>\n<polygon fill=\"black\" stroke=\"black\" points=\"230.28,-61.86 240.82,-62.93 233.25,-55.52 230.28,-61.86\"/>\n</g>\n<!-- 134373439814336 -->\n<g id=\"node12\" class=\"node\">\n<title>134373439814336</title>\n<polygon fill=\"none\" stroke=\"black\" points=\"1656,-81.5 1656,-117.5 1841,-117.5 1841,-81.5 1656,-81.5\"/>\n<text text-anchor=\"middle\" x=\"1667.5\" y=\"-95.8\" font-family=\"Times,serif\" font-size=\"14.00\">e</text>\n<polyline fill=\"none\" stroke=\"black\" points=\"1679,-81.5 1679,-117.5 \"/>\n<text text-anchor=\"middle\" x=\"1719\" y=\"-95.8\" font-family=\"Times,serif\" font-size=\"14.00\">data 5.8284</text>\n<polyline fill=\"none\" stroke=\"black\" points=\"1759,-81.5 1759,-117.5 \"/>\n<text text-anchor=\"middle\" x=\"1800\" y=\"-95.8\" font-family=\"Times,serif\" font-size=\"14.00\">grad 0.0429</text>\n</g>\n<!-- 134373439814336&#45;&gt;134373439807520+ -->\n<g id=\"edge28\" class=\"edge\">\n<title>134373439814336&#45;&gt;134373439807520+</title>\n<path fill=\"none\" stroke=\"black\" d=\"M1841.16,-82.89C1850.84,-81.13 1860.22,-79.43 1868.64,-77.91\"/>\n<polygon fill=\"black\" stroke=\"black\" points=\"1869.53,-81.3 1878.75,-76.08 1868.28,-74.42 1869.53,-81.3\"/>\n</g>\n<!-- 134373439811312+ -->\n<g id=\"node16\" class=\"node\">\n<title>134373439811312+</title>\n<ellipse fill=\"none\" stroke=\"black\" cx=\"1905\" cy=\"-126.5\" rx=\"27\" ry=\"18\"/>\n<text text-anchor=\"middle\" x=\"1905\" y=\"-122.8\" font-family=\"Times,serif\" font-size=\"14.00\">+</text>\n</g>\n<!-- 134373439814336&#45;&gt;134373439811312+ -->\n<g id=\"edge18\" class=\"edge\">\n<title>134373439814336&#45;&gt;134373439811312+</title>\n<path fill=\"none\" stroke=\"black\" d=\"M1841.16,-115.52C1850.84,-117.21 1860.22,-118.85 1868.64,-120.32\"/>\n<polygon fill=\"black\" stroke=\"black\" points=\"1868.29,-123.81 1878.75,-122.09 1869.5,-116.92 1868.29,-123.81\"/>\n</g>\n<!-- 134373439814336exp&#45;&gt;134373439814336 -->\n<g id=\"edge4\" class=\"edge\">\n<title>134373439814336exp&#45;&gt;134373439814336</title>\n<path fill=\"none\" stroke=\"black\" d=\"M1619.21,-99.5C1627,-99.5 1636.05,-99.5 1645.67,-99.5\"/>\n<polygon fill=\"black\" stroke=\"black\" points=\"1645.87,-103 1655.87,-99.5 1645.87,-96 1645.87,-103\"/>\n</g>\n<!-- 134373439803584 -->\n<g id=\"node14\" class=\"node\">\n<title>134373439803584</title>\n<polygon fill=\"none\" stroke=\"black\" points=\"1655,-136.5 1655,-172.5 1842,-172.5 1842,-136.5 1655,-136.5\"/>\n<text text-anchor=\"middle\" x=\"1665\" y=\"-150.8\" font-family=\"Times,serif\" font-size=\"14.00\"> </text>\n<polyline fill=\"none\" stroke=\"black\" points=\"1675,-136.5 1675,-172.5 \"/>\n<text text-anchor=\"middle\" x=\"1717.5\" y=\"-150.8\" font-family=\"Times,serif\" font-size=\"14.00\">data &#45;1.0000</text>\n<polyline fill=\"none\" stroke=\"black\" points=\"1760,-136.5 1760,-172.5 \"/>\n<text text-anchor=\"middle\" x=\"1801\" y=\"-150.8\" font-family=\"Times,serif\" font-size=\"14.00\">grad 0.1464</text>\n</g>\n<!-- 134373439803584&#45;&gt;134373439811312+ -->\n<g id=\"edge21\" class=\"edge\">\n<title>134373439803584&#45;&gt;134373439811312+</title>\n<path fill=\"none\" stroke=\"black\" d=\"M1842.05,-137.73C1851.54,-136.01 1860.71,-134.35 1868.95,-132.85\"/>\n<polygon fill=\"black\" stroke=\"black\" points=\"1869.64,-136.28 1878.85,-131.06 1868.39,-129.4 1869.64,-136.28\"/>\n</g>\n<!-- 134373439811312 -->\n<g id=\"node15\" class=\"node\">\n<title>134373439811312</title>\n<polygon fill=\"none\" stroke=\"black\" points=\"2190,-108.5 2190,-144.5 2372,-144.5 2372,-108.5 2190,-108.5\"/>\n<text text-anchor=\"middle\" x=\"2200\" y=\"-122.8\" font-family=\"Times,serif\" font-size=\"14.00\"> </text>\n<polyline fill=\"none\" stroke=\"black\" points=\"2210,-108.5 2210,-144.5 \"/>\n<text text-anchor=\"middle\" x=\"2250\" y=\"-122.8\" font-family=\"Times,serif\" font-size=\"14.00\">data 4.8284</text>\n<polyline fill=\"none\" stroke=\"black\" points=\"2290,-108.5 2290,-144.5 \"/>\n<text text-anchor=\"middle\" x=\"2331\" y=\"-122.8\" font-family=\"Times,serif\" font-size=\"14.00\">grad 0.1464</text>\n</g>\n<!-- 134373439809872* -->\n<g id=\"node22\" class=\"node\">\n<title>134373439809872*</title>\n<ellipse fill=\"none\" stroke=\"black\" cx=\"2653\" cy=\"-98.5\" rx=\"27\" ry=\"18\"/>\n<text text-anchor=\"middle\" x=\"2653\" y=\"-94.8\" font-family=\"Times,serif\" font-size=\"14.00\">*</text>\n</g>\n<!-- 134373439811312&#45;&gt;134373439809872* -->\n<g id=\"edge13\" class=\"edge\">\n<title>134373439811312&#45;&gt;134373439809872*</title>\n<path fill=\"none\" stroke=\"black\" d=\"M2372.31,-119.9C2433.7,-115.37 2516.76,-109.19 2590,-103.5 2598.42,-102.85 2607.48,-102.13 2616.01,-101.44\"/>\n<polygon fill=\"black\" stroke=\"black\" points=\"2616.37,-104.92 2626.06,-100.63 2615.81,-97.94 2616.37,-104.92\"/>\n</g>\n<!-- 134373439811312+&#45;&gt;134373439811312 -->\n<g id=\"edge5\" class=\"edge\">\n<title>134373439811312+&#45;&gt;134373439811312</title>\n<path fill=\"none\" stroke=\"black\" d=\"M1932,-126.5C1982.46,-126.5 2096.06,-126.5 2179.81,-126.5\"/>\n<polygon fill=\"black\" stroke=\"black\" points=\"2179.87,-130 2189.87,-126.5 2179.87,-123 2179.87,-130\"/>\n</g>\n<!-- 134373439806224 -->\n<g id=\"node17\" class=\"node\">\n<title>134373439806224</title>\n<polygon fill=\"none\" stroke=\"black\" points=\"326,-110.5 326,-146.5 540,-146.5 540,-110.5 326,-110.5\"/>\n<text text-anchor=\"middle\" x=\"349.5\" y=\"-124.8\" font-family=\"Times,serif\" font-size=\"14.00\">x1w1</text>\n<polyline fill=\"none\" stroke=\"black\" points=\"373,-110.5 373,-146.5 \"/>\n<text text-anchor=\"middle\" x=\"415.5\" y=\"-124.8\" font-family=\"Times,serif\" font-size=\"14.00\">data &#45;6.0000</text>\n<polyline fill=\"none\" stroke=\"black\" points=\"458,-110.5 458,-146.5 \"/>\n<text text-anchor=\"middle\" x=\"499\" y=\"-124.8\" font-family=\"Times,serif\" font-size=\"14.00\">grad 0.5000</text>\n</g>\n<!-- 134373439806224&#45;&gt;134373439802480+ -->\n<g id=\"edge26\" class=\"edge\">\n<title>134373439806224&#45;&gt;134373439802480+</title>\n<path fill=\"none\" stroke=\"black\" d=\"M540.4,-110.77C549.72,-109.21 558.65,-107.72 566.68,-106.39\"/>\n<polygon fill=\"black\" stroke=\"black\" points=\"567.38,-109.82 576.66,-104.72 566.22,-102.91 567.38,-109.82\"/>\n</g>\n<!-- 134373439806224*&#45;&gt;134373439806224 -->\n<g id=\"edge6\" class=\"edge\">\n<title>134373439806224*&#45;&gt;134373439806224</title>\n<path fill=\"none\" stroke=\"black\" d=\"M290.25,-128.5C297.7,-128.5 306.34,-128.5 315.59,-128.5\"/>\n<polygon fill=\"black\" stroke=\"black\" points=\"315.84,-132 325.84,-128.5 315.84,-125 315.84,-132\"/>\n</g>\n<!-- 134373439804736 -->\n<g id=\"node19\" class=\"node\">\n<title>134373439804736</title>\n<polygon fill=\"none\" stroke=\"black\" points=\"1036,-54.5 1036,-90.5 1221,-90.5 1221,-54.5 1036,-54.5\"/>\n<text text-anchor=\"middle\" x=\"1047.5\" y=\"-68.8\" font-family=\"Times,serif\" font-size=\"14.00\">n</text>\n<polyline fill=\"none\" stroke=\"black\" points=\"1059,-54.5 1059,-90.5 \"/>\n<text text-anchor=\"middle\" x=\"1099\" y=\"-68.8\" font-family=\"Times,serif\" font-size=\"14.00\">data 0.8814</text>\n<polyline fill=\"none\" stroke=\"black\" points=\"1139,-54.5 1139,-90.5 \"/>\n<text text-anchor=\"middle\" x=\"1180\" y=\"-68.8\" font-family=\"Times,serif\" font-size=\"14.00\">grad 0.5000</text>\n</g>\n<!-- 134373439804736&#45;&gt;134373439804928* -->\n<g id=\"edge12\" class=\"edge\">\n<title>134373439804736&#45;&gt;134373439804928*</title>\n<path fill=\"none\" stroke=\"black\" d=\"M1221.01,-88.6C1230.49,-90.26 1239.66,-91.88 1247.9,-93.33\"/>\n<polygon fill=\"black\" stroke=\"black\" points=\"1247.36,-96.78 1257.81,-95.07 1248.57,-89.89 1247.36,-96.78\"/>\n</g>\n<!-- 134373439804736+&#45;&gt;134373439804736 -->\n<g id=\"edge7\" class=\"edge\">\n<title>134373439804736+&#45;&gt;134373439804736</title>\n<path fill=\"none\" stroke=\"black\" d=\"M1000.04,-72.5C1007.58,-72.5 1016.3,-72.5 1025.57,-72.5\"/>\n<polygon fill=\"black\" stroke=\"black\" points=\"1025.81,-76 1035.81,-72.5 1025.81,-69 1025.81,-76\"/>\n</g>\n<!-- 134373439809872 -->\n<g id=\"node21\" class=\"node\">\n<title>134373439809872</title>\n<polygon fill=\"none\" stroke=\"black\" points=\"2716,-80.5 2716,-116.5 2901,-116.5 2901,-80.5 2716,-80.5\"/>\n<text text-anchor=\"middle\" x=\"2727.5\" y=\"-94.8\" font-family=\"Times,serif\" font-size=\"14.00\">o</text>\n<polyline fill=\"none\" stroke=\"black\" points=\"2739,-80.5 2739,-116.5 \"/>\n<text text-anchor=\"middle\" x=\"2779\" y=\"-94.8\" font-family=\"Times,serif\" font-size=\"14.00\">data 0.7071</text>\n<polyline fill=\"none\" stroke=\"black\" points=\"2819,-80.5 2819,-116.5 \"/>\n<text text-anchor=\"middle\" x=\"2860\" y=\"-94.8\" font-family=\"Times,serif\" font-size=\"14.00\">grad 1.0000</text>\n</g>\n<!-- 134373439809872*&#45;&gt;134373439809872 -->\n<g id=\"edge8\" class=\"edge\">\n<title>134373439809872*&#45;&gt;134373439809872</title>\n<path fill=\"none\" stroke=\"black\" d=\"M2680.04,-98.5C2687.58,-98.5 2696.3,-98.5 2705.57,-98.5\"/>\n<polygon fill=\"black\" stroke=\"black\" points=\"2705.81,-102 2715.81,-98.5 2705.81,-95 2705.81,-102\"/>\n</g>\n<!-- 134373439802720 -->\n<g id=\"node23\" class=\"node\">\n<title>134373439802720</title>\n<polygon fill=\"none\" stroke=\"black\" points=\"695.5,-27.5 695.5,-63.5 880.5,-63.5 880.5,-27.5 695.5,-27.5\"/>\n<text text-anchor=\"middle\" x=\"707\" y=\"-41.8\" font-family=\"Times,serif\" font-size=\"14.00\">b</text>\n<polyline fill=\"none\" stroke=\"black\" points=\"718.5,-27.5 718.5,-63.5 \"/>\n<text text-anchor=\"middle\" x=\"758.5\" y=\"-41.8\" font-family=\"Times,serif\" font-size=\"14.00\">data 6.8814</text>\n<polyline fill=\"none\" stroke=\"black\" points=\"798.5,-27.5 798.5,-63.5 \"/>\n<text text-anchor=\"middle\" x=\"839.5\" y=\"-41.8\" font-family=\"Times,serif\" font-size=\"14.00\">grad 0.5000</text>\n</g>\n<!-- 134373439802720&#45;&gt;134373439804736+ -->\n<g id=\"edge27\" class=\"edge\">\n<title>134373439802720&#45;&gt;134373439804736+</title>\n<path fill=\"none\" stroke=\"black\" d=\"M880.77,-59.04C900.52,-61.95 920.26,-64.87 936.29,-67.23\"/>\n<polygon fill=\"black\" stroke=\"black\" points=\"935.86,-70.71 946.26,-68.7 936.88,-63.78 935.86,-70.71\"/>\n</g>\n<!-- 134373439803776 -->\n<g id=\"node24\" class=\"node\">\n<title>134373439803776</title>\n<polygon fill=\"none\" stroke=\"black\" points=\"328.5,-55.5 328.5,-91.5 537.5,-91.5 537.5,-55.5 328.5,-55.5\"/>\n<text text-anchor=\"middle\" x=\"352\" y=\"-69.8\" font-family=\"Times,serif\" font-size=\"14.00\">x2w2</text>\n<polyline fill=\"none\" stroke=\"black\" points=\"375.5,-55.5 375.5,-91.5 \"/>\n<text text-anchor=\"middle\" x=\"415.5\" y=\"-69.8\" font-family=\"Times,serif\" font-size=\"14.00\">data 0.0000</text>\n<polyline fill=\"none\" stroke=\"black\" points=\"455.5,-55.5 455.5,-91.5 \"/>\n<text text-anchor=\"middle\" x=\"496.5\" y=\"-69.8\" font-family=\"Times,serif\" font-size=\"14.00\">grad 0.5000</text>\n</g>\n<!-- 134373439803776&#45;&gt;134373439802480+ -->\n<g id=\"edge15\" class=\"edge\">\n<title>134373439803776&#45;&gt;134373439802480+</title>\n<path fill=\"none\" stroke=\"black\" d=\"M537.53,-90.14C547.8,-91.79 557.66,-93.37 566.45,-94.79\"/>\n<polygon fill=\"black\" stroke=\"black\" points=\"566.16,-98.28 576.59,-96.42 567.27,-91.37 566.16,-98.28\"/>\n</g>\n<!-- 134373439803776*&#45;&gt;134373439803776 -->\n<g id=\"edge9\" class=\"edge\">\n<title>134373439803776*&#45;&gt;134373439803776</title>\n<path fill=\"none\" stroke=\"black\" d=\"M290.25,-73.5C298.43,-73.5 308.03,-73.5 318.31,-73.5\"/>\n<polygon fill=\"black\" stroke=\"black\" points=\"318.35,-77 328.35,-73.5 318.35,-70 318.35,-77\"/>\n</g>\n<!-- 134373439802768 -->\n<g id=\"node26\" class=\"node\">\n<title>134373439802768</title>\n<polygon fill=\"none\" stroke=\"black\" points=\"2408,-57.5 2408,-93.5 2590,-93.5 2590,-57.5 2408,-57.5\"/>\n<text text-anchor=\"middle\" x=\"2418\" y=\"-71.8\" font-family=\"Times,serif\" font-size=\"14.00\"> </text>\n<polyline fill=\"none\" stroke=\"black\" points=\"2428,-57.5 2428,-93.5 \"/>\n<text text-anchor=\"middle\" x=\"2468\" y=\"-71.8\" font-family=\"Times,serif\" font-size=\"14.00\">data 0.1464</text>\n<polyline fill=\"none\" stroke=\"black\" points=\"2508,-57.5 2508,-93.5 \"/>\n<text text-anchor=\"middle\" x=\"2549\" y=\"-71.8\" font-family=\"Times,serif\" font-size=\"14.00\">grad 4.8284</text>\n</g>\n<!-- 134373439802768&#45;&gt;134373439809872* -->\n<g id=\"edge14\" class=\"edge\">\n<title>134373439802768&#45;&gt;134373439809872*</title>\n<path fill=\"none\" stroke=\"black\" d=\"M2590.18,-89.15C2599.42,-90.54 2608.38,-91.9 2616.47,-93.12\"/>\n<polygon fill=\"black\" stroke=\"black\" points=\"2616.15,-96.61 2626.56,-94.65 2617.19,-89.69 2616.15,-96.61\"/>\n</g>\n<!-- 134373439802768**&#45;1&#45;&gt;134373439802768 -->\n<g id=\"edge10\" class=\"edge\">\n<title>134373439802768**&#45;1&#45;&gt;134373439802768</title>\n<path fill=\"none\" stroke=\"black\" d=\"M2308.05,-71.98C2330.53,-72.4 2364.48,-73.03 2397.5,-73.64\"/>\n<polygon fill=\"black\" stroke=\"black\" points=\"2397.64,-77.14 2407.7,-73.83 2397.77,-70.14 2397.64,-77.14\"/>\n</g>\n<!-- 134373439809968 -->\n<g id=\"node28\" class=\"node\">\n<title>134373439809968</title>\n<polygon fill=\"none\" stroke=\"black\" points=\"1655.5,-26.5 1655.5,-62.5 1841.5,-62.5 1841.5,-26.5 1655.5,-26.5\"/>\n<text text-anchor=\"middle\" x=\"1665.5\" y=\"-40.8\" font-family=\"Times,serif\" font-size=\"14.00\"> </text>\n<polyline fill=\"none\" stroke=\"black\" points=\"1675.5,-26.5 1675.5,-62.5 \"/>\n<text text-anchor=\"middle\" x=\"1715.5\" y=\"-40.8\" font-family=\"Times,serif\" font-size=\"14.00\">data 1.0000</text>\n<polyline fill=\"none\" stroke=\"black\" points=\"1755.5,-26.5 1755.5,-62.5 \"/>\n<text text-anchor=\"middle\" x=\"1798.5\" y=\"-40.8\" font-family=\"Times,serif\" font-size=\"14.00\">grad &#45;0.1036</text>\n</g>\n<!-- 134373439809968&#45;&gt;134373439807520+ -->\n<g id=\"edge24\" class=\"edge\">\n<title>134373439809968&#45;&gt;134373439807520+</title>\n<path fill=\"none\" stroke=\"black\" d=\"M1841.6,-60.6C1851.15,-62.26 1860.37,-63.88 1868.68,-65.33\"/>\n<polygon fill=\"black\" stroke=\"black\" points=\"1868.2,-68.8 1878.65,-67.07 1869.4,-61.9 1868.2,-68.8\"/>\n</g>\n</g>\n</svg>\n",
            "text/plain": [
              "<graphviz.graphs.Digraph at 0x7a364125bb50>"
            ]
          },
          "metadata": {},
          "execution_count": 110
        }
      ]
    },
    {
      "cell_type": "code",
      "source": [
        "#create the neural network using the PyTorch Library instead\n",
        "#of by hand\n",
        "\n",
        "\n",
        "from torch.storage import T\n",
        "import torch\n",
        "import random\n",
        "\n",
        "x1 = torch.Tensor([2.0]).double(); x1.requires_grad = True\n",
        "w1 = torch.Tensor([-3.0]).double(); w1.requires_grad = True\n",
        "x2 = torch.Tensor([0.0]).double(); x2.requires_grad = True\n",
        "w2 = torch.Tensor([1.0]).double(); w2.requires_grad = True\n",
        "b = torch.Tensor([6.88137]).double(); b.requires_grad = True\n",
        "\n",
        "n = x1*w1 + x2*w2 + b\n",
        "o = torch.tanh(n)\n",
        "\n",
        "print(o.data.item())\n",
        "o.backward()\n",
        "print('___')\n",
        "print('x2', x2.grad.item())\n",
        "print('w2', w2.grad.item())\n",
        "print('x1', x1.grad.item())\n",
        "print('w1', w1.grad.item())"
      ],
      "metadata": {
        "colab": {
          "base_uri": "https://localhost:8080/"
        },
        "id": "NL2az6pgf7HU",
        "outputId": "3f0580e4-222a-4eb9-c366-10333455ada3"
      },
      "execution_count": 111,
      "outputs": [
        {
          "output_type": "stream",
          "name": "stdout",
          "text": [
            "0.7071050214706146\n",
            "___\n",
            "x2 0.5000024886110417\n",
            "w2 0.0\n",
            "x1 -1.500007465833125\n",
            "w1 1.0000049772220834\n"
          ]
        }
      ]
    },
    {
      "cell_type": "code",
      "source": [
        "from ast import FunctionDef\n",
        "\n",
        "## Class that defines the structure of a neuron, including weights and bias\n",
        "# values for a specific instance of the class, as well as the functionality to\n",
        "#  select an activation from a list of functions (this option is a work in progress)\n",
        "\n",
        "\n",
        "class Neuron:\n",
        "\n",
        "  ## Constructor\n",
        "  #  param nin: number of inputs to the neuron\n",
        "  #  param func: chosen activation function\n",
        "  #\n",
        "  #  creates new instance of the Neuron class\n",
        "  def __init__(self, nin, func = 0.0):\n",
        "    self.w = [Value(random.uniform(-1,1)) for _ in range(nin)]\n",
        "    self.b = Value(random.uniform(-1,1))\n",
        "    self.func = func\n",
        "\n",
        "  ## Overwrites the buil in python function __call__ to perform the forward\n",
        "  #  propogation step for one specfic neuron\n",
        "  def __call__(self, x):\n",
        "    act = sum((wi*xi for wi, xi in zip(self.w, x)), self.b)\n",
        "    out = act.two_tanh()\n",
        "    return out\n",
        "\n",
        "  ## Returns a list of all weights and biases of one Neuron instance\n",
        "  def parameters(self):\n",
        "    return self.w +[self.b]\n",
        "\n",
        "## Class that defines the structure of a neuron layer, keeping a list of\n",
        "#  Neuron instances in a specific layer of a network\n",
        "\n",
        "class Layer:\n",
        "\n",
        "  ## Constructor\n",
        "  #  param nin: number of inputs neurons to the Layer instance\n",
        "  #  param nout: the number of neurons in Layer instance\n",
        "  #\n",
        "  #  creates new instance of the Layer class\n",
        "  def __init__(self, nin, nout):\n",
        "    self.neurons = [Neuron(nin) for _ in range(nout)]\n",
        "\n",
        "  ## Overwrites the buil in python function __call__ to perform the forward\n",
        "  #  propogation step for one specfic layer in a network\n",
        "  def __call__(self, x):\n",
        "    outs = [n(x) for n in self.neurons]\n",
        "    return outs[0] if len(outs) == 1 else outs\n",
        "\n",
        "  ## Returns a list of all weights and biases of one Layer instance\n",
        "  def parameters(self):\n",
        "    return [p for neuron in self.neurons for p in neuron.parameters()]\n",
        "\n",
        "## Class that defines the structure of a neural network from a integer number of\n",
        "#  inputs, layers, and neurons in each layer, along with a specified activation\n",
        "#  function\n",
        "class MLP:\n",
        "\n",
        "  ## Constructor\n",
        "  #  param nin: number of inputs neurons to the MLP instance\n",
        "  #  param nout: the number of neurons in output layer of the MLP instance\n",
        "  #\n",
        "  #  creates new instance of the MLP class\n",
        "  def __init__(self, nin, nouts, func = 0):\n",
        "    sz = [nin] + nouts\n",
        "    self.layers = [Layer(sz[i], sz[i+1]) for i in range(len(nouts))]\n",
        "    self.func = func\n",
        "\n",
        "  ## Overwrites the buil in python function __call__ to perform the forward\n",
        "  #  propogation step for the whole MLP instance( the whole neural network)\n",
        "  def __call__(self, x):\n",
        "    for layer in self.layers:\n",
        "      x = layer(x)\n",
        "\n",
        "    #set the activation function of all neurons to chosen function\n",
        "    for i in n.layers:\n",
        "      for j in i.neurons:\n",
        "        j.func = self.func\n",
        "    return x\n",
        "\n",
        "  ## Returns a list of all weights and biases of one MLP instance\n",
        "  def parameters(self):\n",
        "    return [p for layer in self.layers for p in layer.parameters()]\n",
        "\n",
        "def listsum(list):\n",
        "  sum = 0\n",
        "  for i in range(0, len(list)):\n",
        "    sum = list[i] + sum\n",
        "  return sum"
      ],
      "metadata": {
        "id": "zZwBneJEgKkI"
      },
      "execution_count": 159,
      "outputs": []
    },
    {
      "cell_type": "code",
      "source": [
        "##Test case set up\n",
        "\n",
        "xs =[\n",
        "    [2.0, 3.0, -1,0],\n",
        "    [3.0, -1.0, 0.5],\n",
        "    [0.5, 1.0, 1.0],\n",
        "    [1.0, 1.0, -1.0],\n",
        "]\n",
        "\n",
        "ys = [1.0, -1.0, -1.0, 1.0]\n",
        "n = MLP(3, [4, 4, 1])\n",
        "\n",
        "ypred = [n(x) for x in xs]\n",
        "ypred"
      ],
      "metadata": {
        "colab": {
          "base_uri": "https://localhost:8080/"
        },
        "id": "wOsokD76m5r2",
        "outputId": "4922ca29-ce9a-47b2-bb47-3f0c6cf0db2d"
      },
      "execution_count": 113,
      "outputs": [
        {
          "output_type": "execute_result",
          "data": {
            "text/plain": [
              "[Value(data=0.7420368005175461),\n",
              " Value(data=0.3974686546774536),\n",
              " Value(data=0.3824122625339033),\n",
              " Value(data=0.6942362851206565)]"
            ]
          },
          "metadata": {},
          "execution_count": 113
        }
      ]
    },
    {
      "cell_type": "code",
      "source": [
        "#Test case training\n",
        "\n",
        "for k in range(50):\n",
        "\n",
        "  #forward pass\n",
        "  ypred = [n(x) for x in xs]\n",
        "  loss = listsum([(yout - ygt)**2 for yout, ygt in zip(ypred, ys)])\n",
        "\n",
        "  #backward pass\n",
        "  for p in n.parameters():\n",
        "    p.grad = 0.0\n",
        "  loss.backward()\n",
        "\n",
        "  # update\n",
        "  for p in n.parameters():\n",
        "    p.data += -0.1 *p.grad\n",
        "\n",
        "  print(k, loss.data)\n"
      ],
      "metadata": {
        "colab": {
          "base_uri": "https://localhost:8080/"
        },
        "id": "A9KpnqfPn2Pl",
        "outputId": "18f85e83-979e-4737-89f7-98b16941043f"
      },
      "execution_count": 114,
      "outputs": [
        {
          "output_type": "stream",
          "name": "stdout",
          "text": [
            "0 4.024018766034158\n",
            "1 5.916645870455203\n",
            "2 0.5873693374107172\n",
            "3 0.30571914656169213\n",
            "4 0.19662080989973435\n",
            "5 0.14161405954346953\n",
            "6 0.10906449147077142\n",
            "7 0.08782867119866049\n",
            "8 0.07301116658607869\n",
            "9 0.06215297479943171\n",
            "10 0.05389386659076119\n",
            "11 0.04742473881354323\n",
            "12 0.042236266226270636\n",
            "13 0.03799293162375174\n",
            "14 0.03446532448696761\n",
            "15 0.031491627694042616\n",
            "16 0.02895465033124759\n",
            "17 0.026767575350386073\n",
            "18 0.024864809045209924\n",
            "19 0.023195930466868974\n",
            "20 0.021721586260805267\n",
            "21 0.020410641463142476\n",
            "22 0.019238161702081764\n",
            "23 0.018183958174681318\n",
            "24 0.01723152125705439\n",
            "25 0.016367227373441373\n",
            "26 0.015579741166479179\n",
            "27 0.014859559344170164\n",
            "28 0.014198658711336399\n",
            "29 0.013590221778473969\n",
            "30 0.013028420805026078\n",
            "31 0.012508246328928392\n",
            "32 0.012025369899680657\n",
            "33 0.011576033351533012\n",
            "34 0.011156958847404605\n",
            "35 0.0107652753088676\n",
            "36 0.010398457870342291\n",
            "37 0.01005427775844115\n",
            "38 0.009730760571433527\n",
            "39 0.009426151369464484\n",
            "40 0.009138885319457422\n",
            "41 0.008867562895543139\n",
            "42 0.008610928835307199\n",
            "43 0.008367854208032786\n",
            "44 0.008137321073735736\n",
            "45 0.007918409308826183\n",
            "46 0.007710285251468608\n",
            "47 0.007512191881528874\n",
            "48 0.00732344029973013\n",
            "49 0.007143402310850891\n"
          ]
        }
      ]
    },
    {
      "cell_type": "code",
      "source": [
        "#attempt to train network to match ys outputs\n",
        "xs = [[2.0], [3.0], [4.0]]\n",
        "ys = [2.0, -1.0, -2.0]\n",
        "n = MLP(1, [4, 4, 1])\n",
        "\n",
        "ypred = [n(x) for x in xs]\n",
        "ypred\n"
      ],
      "metadata": {
        "colab": {
          "base_uri": "https://localhost:8080/"
        },
        "id": "IbiySlkcCA94",
        "outputId": "5d68081a-9044-4f5b-b9ae-8530c5eb84c3"
      },
      "execution_count": 115,
      "outputs": [
        {
          "output_type": "execute_result",
          "data": {
            "text/plain": [
              "[Value(data=0.17743939119890764),\n",
              " Value(data=0.08424087531953003),\n",
              " Value(data=0.06636068178991204)]"
            ]
          },
          "metadata": {},
          "execution_count": 115
        }
      ]
    },
    {
      "cell_type": "code",
      "source": [
        "#attempt to train with learning rate of 0.1 and tanh() as an activation function\n",
        "for k in range(300):\n",
        "\n",
        "  #forward pass\n",
        "  ypred = [n(x) for x in xs]\n",
        "  loss = listsum([(yout - ygt)**2 for yout, ygt in zip(ypred, ys)])\n",
        "\n",
        "  #backward pass\n",
        "  for p in n.parameters():\n",
        "    p.grad = 0.0\n",
        "  loss.backward()\n",
        "\n",
        "  # update\n",
        "  for p in n.parameters():\n",
        "    p.data += -0.1 *p.grad\n",
        "\n",
        "  if k%5 == 0:\n",
        "    print(k, loss.data)\n",
        "\n",
        "  #The network doesnt converge for this step size, it is too large and the\n",
        "  #network appears confused"
      ],
      "metadata": {
        "id": "n0T9T2cBDGIS",
        "colab": {
          "base_uri": "https://localhost:8080/"
        },
        "outputId": "01cdb5af-a8e9-4183-8354-083bb24d7d37"
      },
      "execution_count": 116,
      "outputs": [
        {
          "output_type": "stream",
          "name": "stdout",
          "text": [
            "0 8.76715191571434\n",
            "5 13.725314715989752\n",
            "10 8.758681569343988\n",
            "15 7.0507307130859145\n",
            "20 9.664495741078824\n",
            "25 11.427345577354608\n",
            "30 9.570343658125992\n",
            "35 8.280614294955663\n",
            "40 13.337106806396122\n",
            "45 9.67673123816181\n",
            "50 13.171815828511164\n",
            "55 9.1464742149284\n",
            "60 3.338296522096221\n",
            "65 6.378751599202768\n",
            "70 9.929964494207907\n",
            "75 9.812555631665662\n",
            "80 13.473367880070327\n",
            "85 8.564388014405022\n",
            "90 8.35069509846709\n",
            "95 9.737677751485261\n",
            "100 8.611441607446801\n",
            "105 8.520039869846151\n",
            "110 8.71307450519328\n",
            "115 9.63862529795749\n",
            "120 8.644000952052108\n",
            "125 8.623786185947003\n",
            "130 8.587682536936097\n",
            "135 8.394216077403915\n",
            "140 9.495481233011063\n",
            "145 9.915623139252961\n",
            "150 9.649981966273346\n",
            "155 9.97388122902589\n",
            "160 9.965648879561606\n",
            "165 9.950260706140687\n",
            "170 9.912498371661956\n",
            "175 9.72802781999201\n",
            "180 8.758431306421915\n",
            "185 8.713536666740206\n",
            "190 8.746270246053415\n",
            "195 8.706000285059828\n",
            "200 8.734243195304147\n",
            "205 8.694059450579775\n",
            "210 8.720679411124777\n",
            "215 8.669901969154456\n",
            "220 8.741074975433795\n",
            "225 8.581363098041445\n",
            "230 8.906607824624121\n",
            "235 9.542316831358324\n",
            "240 13.618109628646435\n",
            "245 8.258125872707065\n",
            "250 8.684611978210866\n",
            "255 9.858977280557182\n",
            "260 8.905978182395872\n",
            "265 8.728530725474881\n",
            "270 8.789787883621878\n",
            "275 8.72380024998636\n",
            "280 8.782988419214464\n",
            "285 8.715635204093788\n",
            "290 8.774049429935184\n",
            "295 8.694100968208208\n"
          ]
        }
      ]
    },
    {
      "cell_type": "code",
      "source": [
        "#attempt to train the network using different hyper parameters to imporve performace\n",
        "xs = [[2.0], [3.0], [4.0]]\n",
        "ys = [2.0, -1.0, -2.0]\n",
        "m = MLP(1, [4, 4, 1])\n",
        "\n",
        "ypred = [m(x) for x in xs]\n",
        "ypred"
      ],
      "metadata": {
        "id": "qf96UxmoEX5P",
        "colab": {
          "base_uri": "https://localhost:8080/"
        },
        "outputId": "66d7c0c9-cbe3-4fa0-cbd8-09e40d01da57"
      },
      "execution_count": 144,
      "outputs": [
        {
          "output_type": "execute_result",
          "data": {
            "text/plain": [
              "[Value(data=-0.9831886881647928),\n",
              " Value(data=-0.9802425369653928),\n",
              " Value(data=-0.9786347249531757)]"
            ]
          },
          "metadata": {},
          "execution_count": 144
        }
      ]
    },
    {
      "cell_type": "code",
      "source": [
        "#reduce step size to 0.02\n",
        "\n",
        "for k in range(300):\n",
        "\n",
        "  #forward pass\n",
        "  ypred = [n(x) for x in xs]\n",
        "  loss = listsum([(yout - ygt)**2 for yout, ygt in zip(ypred, ys)])\n",
        "\n",
        "  #backward pass\n",
        "  for p in n.parameters():\n",
        "    p.grad = 0.0\n",
        "  loss.backward()\n",
        "\n",
        "  # update\n",
        "  for p in n.parameters():\n",
        "    p.data += -0.02 *p.grad\n",
        "\n",
        "  if k%20 == 0:\n",
        "    print(k, loss.data)\n",
        "\n",
        "  #This step size is better but tanh is bounded between -1 and 1 so the last layer\n",
        "  # of the network will never output -2 or 2, therefore using tanh() will\n",
        "  # approach 2  - (-2 - (-1))^2  + (2 - 1)^2"
      ],
      "metadata": {
        "id": "KHYiC6KAInV_",
        "colab": {
          "base_uri": "https://localhost:8080/"
        },
        "outputId": "3b325cfb-9141-4803-de34-48eb4ec9eb9f"
      },
      "execution_count": 150,
      "outputs": [
        {
          "output_type": "stream",
          "name": "stdout",
          "text": [
            "0 2.0035764546366552\n",
            "20 2.003536663331011\n",
            "40 2.003497742811849\n",
            "60 2.0034596648715652\n",
            "80 2.003422402506259\n",
            "100 2.003385929852254\n",
            "120 2.003350222126598\n",
            "140 2.003315255571248\n",
            "160 2.0032810074006626\n",
            "180 2.0032474557525974\n",
            "200 2.003214579641843\n",
            "220 2.003182358916713\n",
            "240 2.003150774218111\n",
            "260 2.0031198069409673\n",
            "280 2.003089439197912\n"
          ]
        }
      ]
    },
    {
      "cell_type": "code",
      "source": [
        "# attempt 3 to modify network so loss approaches 0\n",
        "xs = [[2.0], [3.0], [4.0]]\n",
        "ys = [2.0, -1.0, -2.0]\n",
        "nn = MLP(1, [4, 4, 1], 1)\n",
        "\n",
        "ypred = [nn(x) for x in xs]\n",
        "ypred"
      ],
      "metadata": {
        "colab": {
          "base_uri": "https://localhost:8080/"
        },
        "id": "6ePTQW_sK92v",
        "outputId": "388f40ef-1d4e-47c5-e2b2-fe19ce43a52a"
      },
      "execution_count": 160,
      "outputs": [
        {
          "output_type": "execute_result",
          "data": {
            "text/plain": [
              "[Value(data=0.2546302284350278),\n",
              " Value(data=0.1286201093987355),\n",
              " Value(data=-0.3145375431020453)]"
            ]
          },
          "metadata": {},
          "execution_count": 160
        }
      ]
    },
    {
      "cell_type": "code",
      "source": [
        "# change activation function to 2*tanh()\n",
        "for k in range(300):\n",
        "\n",
        "  #forward pass\n",
        "  ypred = [nn(x) for x in xs]\n",
        "  loss = listsum([(yout - ygt)**2 for yout, ygt in zip(ypred, ys)])\n",
        "\n",
        "  #backward pass\n",
        "  for p in nn.parameters():\n",
        "    p.grad = 0.0\n",
        "  loss.backward()\n",
        "\n",
        "  # update\n",
        "  for p in nn.parameters():\n",
        "    p.data += -0.001 *p.grad\n",
        "\n",
        "  if k %20 == 0:\n",
        "    print(k, loss.data)\n",
        "\n",
        "for a in nn.parameters():\n",
        "  if abs(a.data) > 1:\n",
        "    print(a)\n",
        "\n",
        "  #By changing the activiation function to 2*tanh instead of tanh(, the target\n",
        "  #output values are now in the range of the activation function and the network\n",
        "  # is able to fully minimize the cost function"
      ],
      "metadata": {
        "colab": {
          "base_uri": "https://localhost:8080/"
        },
        "id": "gTDreIBAK77j",
        "outputId": "702138f7-08f1-4c3c-a51e-c00cf8bcf9eb"
      },
      "execution_count": 162,
      "outputs": [
        {
          "output_type": "stream",
          "name": "stdout",
          "text": [
            "0 0.06305814899514665\n",
            "20 0.058824160564551066\n",
            "40 0.05512163627080587\n",
            "60 0.051856746941632656\n",
            "80 0.04895644227362586\n",
            "100 0.04636302166179504\n",
            "120 0.0440303168347197\n",
            "140 0.0419209561498058\n",
            "160 0.04000437015650313\n",
            "180 0.03825531485690015\n",
            "200 0.03665276277817875\n",
            "220 0.03517905948025979\n",
            "240 0.0338192743722873\n",
            "260 0.0325606956466878\n",
            "280 0.03139243340160122\n",
            "Value(data=1.0888604003728712)\n",
            "Value(data=-1.042781921157535)\n",
            "Value(data=1.142847529843836)\n",
            "Value(data=-1.018229520256042)\n",
            "Value(data=-1.230688187696219)\n"
          ]
        }
      ]
    }
  ]
}